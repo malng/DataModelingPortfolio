{
 "cells": [
  {
   "cell_type": "markdown",
   "metadata": {
    "collapsed": true,
    "pycharm": {
     "name": "#%% md\n"
    }
   },
   "source": [
    "# 0.引入类库 设置全局变量"
   ]
  },
  {
   "cell_type": "code",
   "execution_count": 123,
   "outputs": [],
   "source": [
    "import os\n",
    "import numpy as np\n",
    "import pandas as pd\n",
    "pd.set_option(\"display.max_colwidth\",None)  #\n",
    "\n",
    "import matplotlib.pyplot as plt\n",
    "plt.rcParams['font.sans-serif']=['SimHei']  # 用来正常显示中文标签\n",
    "plt.rcParams['axes.unicode_minus']=False  # 用来正常显示负号\n",
    "import seaborn as sns"
   ],
   "metadata": {
    "collapsed": false,
    "pycharm": {
     "name": "#%%\n"
    }
   }
  },
  {
   "cell_type": "code",
   "execution_count": 124,
   "outputs": [],
   "source": [
    "DATA_PATH = './input/'"
   ],
   "metadata": {
    "collapsed": false,
    "pycharm": {
     "name": "#%%\n"
    }
   }
  },
  {
   "cell_type": "markdown",
   "source": [
    "# 1.查看所有数据源基础信息"
   ],
   "metadata": {
    "collapsed": false,
    "pycharm": {
     "name": "#%% md\n"
    }
   }
  },
  {
   "cell_type": "code",
   "execution_count": 125,
   "outputs": [
    {
     "data": {
      "text/plain": "['data_description.txt', 'sample_submission.csv', 'test.csv', 'train.csv']"
     },
     "execution_count": 125,
     "metadata": {},
     "output_type": "execute_result"
    }
   ],
   "source": [
    "os.listdir(DATA_PATH)"
   ],
   "metadata": {
    "collapsed": false,
    "pycharm": {
     "name": "#%%\n"
    }
   }
  },
  {
   "cell_type": "code",
   "execution_count": 126,
   "outputs": [],
   "source": [
    "train = pd.read_csv(DATA_PATH +'train.csv')\n",
    "test = pd.read_csv(DATA_PATH +'test.csv')\n",
    "sample_submission = pd.read_csv(DATA_PATH +'sample_submission.csv')"
   ],
   "metadata": {
    "collapsed": false,
    "pycharm": {
     "name": "#%%\n"
    }
   }
  },
  {
   "cell_type": "code",
   "execution_count": 127,
   "outputs": [
    {
     "data": {
      "text/plain": "((1460, 81), (1459, 80), (1459, 2))"
     },
     "execution_count": 127,
     "metadata": {},
     "output_type": "execute_result"
    }
   ],
   "source": [
    "train.shape, test.shape, sample_submission.shape"
   ],
   "metadata": {
    "collapsed": false,
    "pycharm": {
     "name": "#%%\n"
    }
   }
  },
  {
   "cell_type": "code",
   "execution_count": 128,
   "outputs": [
    {
     "data": {
      "text/plain": "   Id  MSSubClass MSZoning  LotFrontage  LotArea Street Alley LotShape  \\\n0   1          60       RL         65.0     8450   Pave   NaN      Reg   \n1   2          20       RL         80.0     9600   Pave   NaN      Reg   \n2   3          60       RL         68.0    11250   Pave   NaN      IR1   \n3   4          70       RL         60.0     9550   Pave   NaN      IR1   \n4   5          60       RL         84.0    14260   Pave   NaN      IR1   \n\n  LandContour Utilities  ... PoolArea PoolQC Fence MiscFeature MiscVal MoSold  \\\n0         Lvl    AllPub  ...        0    NaN   NaN         NaN       0      2   \n1         Lvl    AllPub  ...        0    NaN   NaN         NaN       0      5   \n2         Lvl    AllPub  ...        0    NaN   NaN         NaN       0      9   \n3         Lvl    AllPub  ...        0    NaN   NaN         NaN       0      2   \n4         Lvl    AllPub  ...        0    NaN   NaN         NaN       0     12   \n\n  YrSold  SaleType  SaleCondition  SalePrice  \n0   2008        WD         Normal     208500  \n1   2007        WD         Normal     181500  \n2   2008        WD         Normal     223500  \n3   2006        WD        Abnorml     140000  \n4   2008        WD         Normal     250000  \n\n[5 rows x 81 columns]",
      "text/html": "<div>\n<style scoped>\n    .dataframe tbody tr th:only-of-type {\n        vertical-align: middle;\n    }\n\n    .dataframe tbody tr th {\n        vertical-align: top;\n    }\n\n    .dataframe thead th {\n        text-align: right;\n    }\n</style>\n<table border=\"1\" class=\"dataframe\">\n  <thead>\n    <tr style=\"text-align: right;\">\n      <th></th>\n      <th>Id</th>\n      <th>MSSubClass</th>\n      <th>MSZoning</th>\n      <th>LotFrontage</th>\n      <th>LotArea</th>\n      <th>Street</th>\n      <th>Alley</th>\n      <th>LotShape</th>\n      <th>LandContour</th>\n      <th>Utilities</th>\n      <th>...</th>\n      <th>PoolArea</th>\n      <th>PoolQC</th>\n      <th>Fence</th>\n      <th>MiscFeature</th>\n      <th>MiscVal</th>\n      <th>MoSold</th>\n      <th>YrSold</th>\n      <th>SaleType</th>\n      <th>SaleCondition</th>\n      <th>SalePrice</th>\n    </tr>\n  </thead>\n  <tbody>\n    <tr>\n      <th>0</th>\n      <td>1</td>\n      <td>60</td>\n      <td>RL</td>\n      <td>65.0</td>\n      <td>8450</td>\n      <td>Pave</td>\n      <td>NaN</td>\n      <td>Reg</td>\n      <td>Lvl</td>\n      <td>AllPub</td>\n      <td>...</td>\n      <td>0</td>\n      <td>NaN</td>\n      <td>NaN</td>\n      <td>NaN</td>\n      <td>0</td>\n      <td>2</td>\n      <td>2008</td>\n      <td>WD</td>\n      <td>Normal</td>\n      <td>208500</td>\n    </tr>\n    <tr>\n      <th>1</th>\n      <td>2</td>\n      <td>20</td>\n      <td>RL</td>\n      <td>80.0</td>\n      <td>9600</td>\n      <td>Pave</td>\n      <td>NaN</td>\n      <td>Reg</td>\n      <td>Lvl</td>\n      <td>AllPub</td>\n      <td>...</td>\n      <td>0</td>\n      <td>NaN</td>\n      <td>NaN</td>\n      <td>NaN</td>\n      <td>0</td>\n      <td>5</td>\n      <td>2007</td>\n      <td>WD</td>\n      <td>Normal</td>\n      <td>181500</td>\n    </tr>\n    <tr>\n      <th>2</th>\n      <td>3</td>\n      <td>60</td>\n      <td>RL</td>\n      <td>68.0</td>\n      <td>11250</td>\n      <td>Pave</td>\n      <td>NaN</td>\n      <td>IR1</td>\n      <td>Lvl</td>\n      <td>AllPub</td>\n      <td>...</td>\n      <td>0</td>\n      <td>NaN</td>\n      <td>NaN</td>\n      <td>NaN</td>\n      <td>0</td>\n      <td>9</td>\n      <td>2008</td>\n      <td>WD</td>\n      <td>Normal</td>\n      <td>223500</td>\n    </tr>\n    <tr>\n      <th>3</th>\n      <td>4</td>\n      <td>70</td>\n      <td>RL</td>\n      <td>60.0</td>\n      <td>9550</td>\n      <td>Pave</td>\n      <td>NaN</td>\n      <td>IR1</td>\n      <td>Lvl</td>\n      <td>AllPub</td>\n      <td>...</td>\n      <td>0</td>\n      <td>NaN</td>\n      <td>NaN</td>\n      <td>NaN</td>\n      <td>0</td>\n      <td>2</td>\n      <td>2006</td>\n      <td>WD</td>\n      <td>Abnorml</td>\n      <td>140000</td>\n    </tr>\n    <tr>\n      <th>4</th>\n      <td>5</td>\n      <td>60</td>\n      <td>RL</td>\n      <td>84.0</td>\n      <td>14260</td>\n      <td>Pave</td>\n      <td>NaN</td>\n      <td>IR1</td>\n      <td>Lvl</td>\n      <td>AllPub</td>\n      <td>...</td>\n      <td>0</td>\n      <td>NaN</td>\n      <td>NaN</td>\n      <td>NaN</td>\n      <td>0</td>\n      <td>12</td>\n      <td>2008</td>\n      <td>WD</td>\n      <td>Normal</td>\n      <td>250000</td>\n    </tr>\n  </tbody>\n</table>\n<p>5 rows × 81 columns</p>\n</div>"
     },
     "execution_count": 128,
     "metadata": {},
     "output_type": "execute_result"
    }
   ],
   "source": [
    "train.head()"
   ],
   "metadata": {
    "collapsed": false,
    "pycharm": {
     "name": "#%%\n"
    }
   }
  },
  {
   "cell_type": "code",
   "execution_count": 129,
   "outputs": [
    {
     "data": {
      "text/plain": "     Id  MSSubClass MSZoning  LotFrontage  LotArea Street Alley LotShape  \\\n0  1461          20       RH         80.0    11622   Pave   NaN      Reg   \n1  1462          20       RL         81.0    14267   Pave   NaN      IR1   \n2  1463          60       RL         74.0    13830   Pave   NaN      IR1   \n3  1464          60       RL         78.0     9978   Pave   NaN      IR1   \n4  1465         120       RL         43.0     5005   Pave   NaN      IR1   \n\n  LandContour Utilities  ... ScreenPorch PoolArea PoolQC  Fence MiscFeature  \\\n0         Lvl    AllPub  ...         120        0    NaN  MnPrv         NaN   \n1         Lvl    AllPub  ...           0        0    NaN    NaN        Gar2   \n2         Lvl    AllPub  ...           0        0    NaN  MnPrv         NaN   \n3         Lvl    AllPub  ...           0        0    NaN    NaN         NaN   \n4         HLS    AllPub  ...         144        0    NaN    NaN         NaN   \n\n  MiscVal MoSold  YrSold  SaleType  SaleCondition  \n0       0      6    2010        WD         Normal  \n1   12500      6    2010        WD         Normal  \n2       0      3    2010        WD         Normal  \n3       0      6    2010        WD         Normal  \n4       0      1    2010        WD         Normal  \n\n[5 rows x 80 columns]",
      "text/html": "<div>\n<style scoped>\n    .dataframe tbody tr th:only-of-type {\n        vertical-align: middle;\n    }\n\n    .dataframe tbody tr th {\n        vertical-align: top;\n    }\n\n    .dataframe thead th {\n        text-align: right;\n    }\n</style>\n<table border=\"1\" class=\"dataframe\">\n  <thead>\n    <tr style=\"text-align: right;\">\n      <th></th>\n      <th>Id</th>\n      <th>MSSubClass</th>\n      <th>MSZoning</th>\n      <th>LotFrontage</th>\n      <th>LotArea</th>\n      <th>Street</th>\n      <th>Alley</th>\n      <th>LotShape</th>\n      <th>LandContour</th>\n      <th>Utilities</th>\n      <th>...</th>\n      <th>ScreenPorch</th>\n      <th>PoolArea</th>\n      <th>PoolQC</th>\n      <th>Fence</th>\n      <th>MiscFeature</th>\n      <th>MiscVal</th>\n      <th>MoSold</th>\n      <th>YrSold</th>\n      <th>SaleType</th>\n      <th>SaleCondition</th>\n    </tr>\n  </thead>\n  <tbody>\n    <tr>\n      <th>0</th>\n      <td>1461</td>\n      <td>20</td>\n      <td>RH</td>\n      <td>80.0</td>\n      <td>11622</td>\n      <td>Pave</td>\n      <td>NaN</td>\n      <td>Reg</td>\n      <td>Lvl</td>\n      <td>AllPub</td>\n      <td>...</td>\n      <td>120</td>\n      <td>0</td>\n      <td>NaN</td>\n      <td>MnPrv</td>\n      <td>NaN</td>\n      <td>0</td>\n      <td>6</td>\n      <td>2010</td>\n      <td>WD</td>\n      <td>Normal</td>\n    </tr>\n    <tr>\n      <th>1</th>\n      <td>1462</td>\n      <td>20</td>\n      <td>RL</td>\n      <td>81.0</td>\n      <td>14267</td>\n      <td>Pave</td>\n      <td>NaN</td>\n      <td>IR1</td>\n      <td>Lvl</td>\n      <td>AllPub</td>\n      <td>...</td>\n      <td>0</td>\n      <td>0</td>\n      <td>NaN</td>\n      <td>NaN</td>\n      <td>Gar2</td>\n      <td>12500</td>\n      <td>6</td>\n      <td>2010</td>\n      <td>WD</td>\n      <td>Normal</td>\n    </tr>\n    <tr>\n      <th>2</th>\n      <td>1463</td>\n      <td>60</td>\n      <td>RL</td>\n      <td>74.0</td>\n      <td>13830</td>\n      <td>Pave</td>\n      <td>NaN</td>\n      <td>IR1</td>\n      <td>Lvl</td>\n      <td>AllPub</td>\n      <td>...</td>\n      <td>0</td>\n      <td>0</td>\n      <td>NaN</td>\n      <td>MnPrv</td>\n      <td>NaN</td>\n      <td>0</td>\n      <td>3</td>\n      <td>2010</td>\n      <td>WD</td>\n      <td>Normal</td>\n    </tr>\n    <tr>\n      <th>3</th>\n      <td>1464</td>\n      <td>60</td>\n      <td>RL</td>\n      <td>78.0</td>\n      <td>9978</td>\n      <td>Pave</td>\n      <td>NaN</td>\n      <td>IR1</td>\n      <td>Lvl</td>\n      <td>AllPub</td>\n      <td>...</td>\n      <td>0</td>\n      <td>0</td>\n      <td>NaN</td>\n      <td>NaN</td>\n      <td>NaN</td>\n      <td>0</td>\n      <td>6</td>\n      <td>2010</td>\n      <td>WD</td>\n      <td>Normal</td>\n    </tr>\n    <tr>\n      <th>4</th>\n      <td>1465</td>\n      <td>120</td>\n      <td>RL</td>\n      <td>43.0</td>\n      <td>5005</td>\n      <td>Pave</td>\n      <td>NaN</td>\n      <td>IR1</td>\n      <td>HLS</td>\n      <td>AllPub</td>\n      <td>...</td>\n      <td>144</td>\n      <td>0</td>\n      <td>NaN</td>\n      <td>NaN</td>\n      <td>NaN</td>\n      <td>0</td>\n      <td>1</td>\n      <td>2010</td>\n      <td>WD</td>\n      <td>Normal</td>\n    </tr>\n  </tbody>\n</table>\n<p>5 rows × 80 columns</p>\n</div>"
     },
     "execution_count": 129,
     "metadata": {},
     "output_type": "execute_result"
    }
   ],
   "source": [
    "test.head()"
   ],
   "metadata": {
    "collapsed": false,
    "pycharm": {
     "name": "#%%\n"
    }
   }
  },
  {
   "cell_type": "code",
   "execution_count": 130,
   "outputs": [
    {
     "data": {
      "text/plain": "     Id      SalePrice\n0  1461  169277.052498\n1  1462  187758.393989\n2  1463  183583.683570\n3  1464  179317.477511\n4  1465  150730.079977",
      "text/html": "<div>\n<style scoped>\n    .dataframe tbody tr th:only-of-type {\n        vertical-align: middle;\n    }\n\n    .dataframe tbody tr th {\n        vertical-align: top;\n    }\n\n    .dataframe thead th {\n        text-align: right;\n    }\n</style>\n<table border=\"1\" class=\"dataframe\">\n  <thead>\n    <tr style=\"text-align: right;\">\n      <th></th>\n      <th>Id</th>\n      <th>SalePrice</th>\n    </tr>\n  </thead>\n  <tbody>\n    <tr>\n      <th>0</th>\n      <td>1461</td>\n      <td>169277.052498</td>\n    </tr>\n    <tr>\n      <th>1</th>\n      <td>1462</td>\n      <td>187758.393989</td>\n    </tr>\n    <tr>\n      <th>2</th>\n      <td>1463</td>\n      <td>183583.683570</td>\n    </tr>\n    <tr>\n      <th>3</th>\n      <td>1464</td>\n      <td>179317.477511</td>\n    </tr>\n    <tr>\n      <th>4</th>\n      <td>1465</td>\n      <td>150730.079977</td>\n    </tr>\n  </tbody>\n</table>\n</div>"
     },
     "execution_count": 130,
     "metadata": {},
     "output_type": "execute_result"
    }
   ],
   "source": [
    "sample_submission.head()"
   ],
   "metadata": {
    "collapsed": false,
    "pycharm": {
     "name": "#%%\n"
    }
   }
  },
  {
   "cell_type": "code",
   "execution_count": 131,
   "outputs": [
    {
     "name": "stdout",
     "output_type": "stream",
     "text": [
      "<class 'pandas.core.frame.DataFrame'>\n",
      "RangeIndex: 1460 entries, 0 to 1459\n",
      "Data columns (total 81 columns):\n",
      " #   Column         Non-Null Count  Dtype  \n",
      "---  ------         --------------  -----  \n",
      " 0   Id             1460 non-null   int64  \n",
      " 1   MSSubClass     1460 non-null   int64  \n",
      " 2   MSZoning       1460 non-null   object \n",
      " 3   LotFrontage    1201 non-null   float64\n",
      " 4   LotArea        1460 non-null   int64  \n",
      " 5   Street         1460 non-null   object \n",
      " 6   Alley          91 non-null     object \n",
      " 7   LotShape       1460 non-null   object \n",
      " 8   LandContour    1460 non-null   object \n",
      " 9   Utilities      1460 non-null   object \n",
      " 10  LotConfig      1460 non-null   object \n",
      " 11  LandSlope      1460 non-null   object \n",
      " 12  Neighborhood   1460 non-null   object \n",
      " 13  Condition1     1460 non-null   object \n",
      " 14  Condition2     1460 non-null   object \n",
      " 15  BldgType       1460 non-null   object \n",
      " 16  HouseStyle     1460 non-null   object \n",
      " 17  OverallQual    1460 non-null   int64  \n",
      " 18  OverallCond    1460 non-null   int64  \n",
      " 19  YearBuilt      1460 non-null   int64  \n",
      " 20  YearRemodAdd   1460 non-null   int64  \n",
      " 21  RoofStyle      1460 non-null   object \n",
      " 22  RoofMatl       1460 non-null   object \n",
      " 23  Exterior1st    1460 non-null   object \n",
      " 24  Exterior2nd    1460 non-null   object \n",
      " 25  MasVnrType     1452 non-null   object \n",
      " 26  MasVnrArea     1452 non-null   float64\n",
      " 27  ExterQual      1460 non-null   object \n",
      " 28  ExterCond      1460 non-null   object \n",
      " 29  Foundation     1460 non-null   object \n",
      " 30  BsmtQual       1423 non-null   object \n",
      " 31  BsmtCond       1423 non-null   object \n",
      " 32  BsmtExposure   1422 non-null   object \n",
      " 33  BsmtFinType1   1423 non-null   object \n",
      " 34  BsmtFinSF1     1460 non-null   int64  \n",
      " 35  BsmtFinType2   1422 non-null   object \n",
      " 36  BsmtFinSF2     1460 non-null   int64  \n",
      " 37  BsmtUnfSF      1460 non-null   int64  \n",
      " 38  TotalBsmtSF    1460 non-null   int64  \n",
      " 39  Heating        1460 non-null   object \n",
      " 40  HeatingQC      1460 non-null   object \n",
      " 41  CentralAir     1460 non-null   object \n",
      " 42  Electrical     1459 non-null   object \n",
      " 43  1stFlrSF       1460 non-null   int64  \n",
      " 44  2ndFlrSF       1460 non-null   int64  \n",
      " 45  LowQualFinSF   1460 non-null   int64  \n",
      " 46  GrLivArea      1460 non-null   int64  \n",
      " 47  BsmtFullBath   1460 non-null   int64  \n",
      " 48  BsmtHalfBath   1460 non-null   int64  \n",
      " 49  FullBath       1460 non-null   int64  \n",
      " 50  HalfBath       1460 non-null   int64  \n",
      " 51  BedroomAbvGr   1460 non-null   int64  \n",
      " 52  KitchenAbvGr   1460 non-null   int64  \n",
      " 53  KitchenQual    1460 non-null   object \n",
      " 54  TotRmsAbvGrd   1460 non-null   int64  \n",
      " 55  Functional     1460 non-null   object \n",
      " 56  Fireplaces     1460 non-null   int64  \n",
      " 57  FireplaceQu    770 non-null    object \n",
      " 58  GarageType     1379 non-null   object \n",
      " 59  GarageYrBlt    1379 non-null   float64\n",
      " 60  GarageFinish   1379 non-null   object \n",
      " 61  GarageCars     1460 non-null   int64  \n",
      " 62  GarageArea     1460 non-null   int64  \n",
      " 63  GarageQual     1379 non-null   object \n",
      " 64  GarageCond     1379 non-null   object \n",
      " 65  PavedDrive     1460 non-null   object \n",
      " 66  WoodDeckSF     1460 non-null   int64  \n",
      " 67  OpenPorchSF    1460 non-null   int64  \n",
      " 68  EnclosedPorch  1460 non-null   int64  \n",
      " 69  3SsnPorch      1460 non-null   int64  \n",
      " 70  ScreenPorch    1460 non-null   int64  \n",
      " 71  PoolArea       1460 non-null   int64  \n",
      " 72  PoolQC         7 non-null      object \n",
      " 73  Fence          281 non-null    object \n",
      " 74  MiscFeature    54 non-null     object \n",
      " 75  MiscVal        1460 non-null   int64  \n",
      " 76  MoSold         1460 non-null   int64  \n",
      " 77  YrSold         1460 non-null   int64  \n",
      " 78  SaleType       1460 non-null   object \n",
      " 79  SaleCondition  1460 non-null   object \n",
      " 80  SalePrice      1460 non-null   int64  \n",
      "dtypes: float64(3), int64(35), object(43)\n",
      "memory usage: 924.0+ KB\n"
     ]
    }
   ],
   "source": [
    "train.info()"
   ],
   "metadata": {
    "collapsed": false,
    "pycharm": {
     "name": "#%%\n"
    }
   }
  },
  {
   "cell_type": "code",
   "execution_count": 132,
   "outputs": [
    {
     "name": "stdout",
     "output_type": "stream",
     "text": [
      "<class 'pandas.core.frame.DataFrame'>\n",
      "RangeIndex: 1459 entries, 0 to 1458\n",
      "Data columns (total 80 columns):\n",
      " #   Column         Non-Null Count  Dtype  \n",
      "---  ------         --------------  -----  \n",
      " 0   Id             1459 non-null   int64  \n",
      " 1   MSSubClass     1459 non-null   int64  \n",
      " 2   MSZoning       1455 non-null   object \n",
      " 3   LotFrontage    1232 non-null   float64\n",
      " 4   LotArea        1459 non-null   int64  \n",
      " 5   Street         1459 non-null   object \n",
      " 6   Alley          107 non-null    object \n",
      " 7   LotShape       1459 non-null   object \n",
      " 8   LandContour    1459 non-null   object \n",
      " 9   Utilities      1457 non-null   object \n",
      " 10  LotConfig      1459 non-null   object \n",
      " 11  LandSlope      1459 non-null   object \n",
      " 12  Neighborhood   1459 non-null   object \n",
      " 13  Condition1     1459 non-null   object \n",
      " 14  Condition2     1459 non-null   object \n",
      " 15  BldgType       1459 non-null   object \n",
      " 16  HouseStyle     1459 non-null   object \n",
      " 17  OverallQual    1459 non-null   int64  \n",
      " 18  OverallCond    1459 non-null   int64  \n",
      " 19  YearBuilt      1459 non-null   int64  \n",
      " 20  YearRemodAdd   1459 non-null   int64  \n",
      " 21  RoofStyle      1459 non-null   object \n",
      " 22  RoofMatl       1459 non-null   object \n",
      " 23  Exterior1st    1458 non-null   object \n",
      " 24  Exterior2nd    1458 non-null   object \n",
      " 25  MasVnrType     1443 non-null   object \n",
      " 26  MasVnrArea     1444 non-null   float64\n",
      " 27  ExterQual      1459 non-null   object \n",
      " 28  ExterCond      1459 non-null   object \n",
      " 29  Foundation     1459 non-null   object \n",
      " 30  BsmtQual       1415 non-null   object \n",
      " 31  BsmtCond       1414 non-null   object \n",
      " 32  BsmtExposure   1415 non-null   object \n",
      " 33  BsmtFinType1   1417 non-null   object \n",
      " 34  BsmtFinSF1     1458 non-null   float64\n",
      " 35  BsmtFinType2   1417 non-null   object \n",
      " 36  BsmtFinSF2     1458 non-null   float64\n",
      " 37  BsmtUnfSF      1458 non-null   float64\n",
      " 38  TotalBsmtSF    1458 non-null   float64\n",
      " 39  Heating        1459 non-null   object \n",
      " 40  HeatingQC      1459 non-null   object \n",
      " 41  CentralAir     1459 non-null   object \n",
      " 42  Electrical     1459 non-null   object \n",
      " 43  1stFlrSF       1459 non-null   int64  \n",
      " 44  2ndFlrSF       1459 non-null   int64  \n",
      " 45  LowQualFinSF   1459 non-null   int64  \n",
      " 46  GrLivArea      1459 non-null   int64  \n",
      " 47  BsmtFullBath   1457 non-null   float64\n",
      " 48  BsmtHalfBath   1457 non-null   float64\n",
      " 49  FullBath       1459 non-null   int64  \n",
      " 50  HalfBath       1459 non-null   int64  \n",
      " 51  BedroomAbvGr   1459 non-null   int64  \n",
      " 52  KitchenAbvGr   1459 non-null   int64  \n",
      " 53  KitchenQual    1458 non-null   object \n",
      " 54  TotRmsAbvGrd   1459 non-null   int64  \n",
      " 55  Functional     1457 non-null   object \n",
      " 56  Fireplaces     1459 non-null   int64  \n",
      " 57  FireplaceQu    729 non-null    object \n",
      " 58  GarageType     1383 non-null   object \n",
      " 59  GarageYrBlt    1381 non-null   float64\n",
      " 60  GarageFinish   1381 non-null   object \n",
      " 61  GarageCars     1458 non-null   float64\n",
      " 62  GarageArea     1458 non-null   float64\n",
      " 63  GarageQual     1381 non-null   object \n",
      " 64  GarageCond     1381 non-null   object \n",
      " 65  PavedDrive     1459 non-null   object \n",
      " 66  WoodDeckSF     1459 non-null   int64  \n",
      " 67  OpenPorchSF    1459 non-null   int64  \n",
      " 68  EnclosedPorch  1459 non-null   int64  \n",
      " 69  3SsnPorch      1459 non-null   int64  \n",
      " 70  ScreenPorch    1459 non-null   int64  \n",
      " 71  PoolArea       1459 non-null   int64  \n",
      " 72  PoolQC         3 non-null      object \n",
      " 73  Fence          290 non-null    object \n",
      " 74  MiscFeature    51 non-null     object \n",
      " 75  MiscVal        1459 non-null   int64  \n",
      " 76  MoSold         1459 non-null   int64  \n",
      " 77  YrSold         1459 non-null   int64  \n",
      " 78  SaleType       1458 non-null   object \n",
      " 79  SaleCondition  1459 non-null   object \n",
      "dtypes: float64(11), int64(26), object(43)\n",
      "memory usage: 912.0+ KB\n"
     ]
    }
   ],
   "source": [
    "test.info()"
   ],
   "metadata": {
    "collapsed": false,
    "pycharm": {
     "name": "#%%\n"
    }
   }
  },
  {
   "cell_type": "code",
   "execution_count": 133,
   "outputs": [
    {
     "name": "stdout",
     "output_type": "stream",
     "text": [
      "<class 'pandas.core.frame.DataFrame'>\n",
      "RangeIndex: 1459 entries, 0 to 1458\n",
      "Data columns (total 2 columns):\n",
      " #   Column     Non-Null Count  Dtype  \n",
      "---  ------     --------------  -----  \n",
      " 0   Id         1459 non-null   int64  \n",
      " 1   SalePrice  1459 non-null   float64\n",
      "dtypes: float64(1), int64(1)\n",
      "memory usage: 22.9 KB\n"
     ]
    }
   ],
   "source": [
    "sample_submission.info()"
   ],
   "metadata": {
    "collapsed": false,
    "pycharm": {
     "name": "#%%\n"
    }
   }
  },
  {
   "cell_type": "code",
   "execution_count": 134,
   "outputs": [
    {
     "data": {
      "text/plain": "{'SalePrice'}"
     },
     "execution_count": 134,
     "metadata": {},
     "output_type": "execute_result"
    }
   ],
   "source": [
    "set(train.columns) - set(test.columns)"
   ],
   "metadata": {
    "collapsed": false,
    "pycharm": {
     "name": "#%%\n"
    }
   }
  },
  {
   "cell_type": "code",
   "source": [
    "set(i for i in train.dtypes.items()) - set(i for i in test.dtypes.items())"
   ],
   "metadata": {
    "collapsed": false,
    "pycharm": {
     "name": "#%%\n"
    }
   },
   "execution_count": 135,
   "outputs": [
    {
     "data": {
      "text/plain": "{('BsmtFinSF1', dtype('int64')),\n ('BsmtFinSF2', dtype('int64')),\n ('BsmtFullBath', dtype('int64')),\n ('BsmtHalfBath', dtype('int64')),\n ('BsmtUnfSF', dtype('int64')),\n ('GarageArea', dtype('int64')),\n ('GarageCars', dtype('int64')),\n ('SalePrice', dtype('int64')),\n ('TotalBsmtSF', dtype('int64'))}"
     },
     "execution_count": 135,
     "metadata": {},
     "output_type": "execute_result"
    }
   ]
  },
  {
   "cell_type": "code",
   "execution_count": 136,
   "outputs": [
    {
     "data": {
      "text/plain": "{('BsmtFinSF1', dtype('float64')),\n ('BsmtFinSF2', dtype('float64')),\n ('BsmtFullBath', dtype('float64')),\n ('BsmtHalfBath', dtype('float64')),\n ('BsmtUnfSF', dtype('float64')),\n ('GarageArea', dtype('float64')),\n ('GarageCars', dtype('float64')),\n ('TotalBsmtSF', dtype('float64'))}"
     },
     "execution_count": 136,
     "metadata": {},
     "output_type": "execute_result"
    }
   ],
   "source": [
    "set(i for i in test.dtypes.items()) - set(i for i in train.dtypes.items())"
   ],
   "metadata": {
    "collapsed": false,
    "pycharm": {
     "name": "#%%\n"
    }
   }
  },
  {
   "cell_type": "markdown",
   "source": [
    "测试集与训练集属性名称一致，标签SalePrice默认格式是int64，另有8个属性在训练集中的默认格式是int64，在测试集中的默认格式是float64"
   ],
   "metadata": {
    "collapsed": false,
    "pycharm": {
     "name": "#%% md\n"
    }
   }
  },
  {
   "cell_type": "markdown",
   "source": [
    "# 2.单变量分析"
   ],
   "metadata": {
    "collapsed": false,
    "pycharm": {
     "name": "#%% md\n"
    }
   }
  },
  {
   "cell_type": "markdown",
   "source": [
    "## 2.1 SalePrice 资产的售价 the property's sale price in dollars （标签）\n",
    "属性释义：需要尝试去预测的标签属性。\n",
    "> This is the target variable that you're trying to predict.\n",
    "\n",
    "数据类型：int64\n",
    "数据类别：数值型\n",
    "单位：美元\n",
    "取值范围：34,900~755,000\n",
    "缺失值：无\n",
    "异常值：无"
   ],
   "metadata": {
    "collapsed": false,
    "pycharm": {
     "name": "#%% md\n"
    }
   }
  },
  {
   "cell_type": "code",
   "execution_count": 137,
   "outputs": [
    {
     "data": {
      "text/plain": "count      1460.000000\nmean     180921.195890\nstd       79442.502883\nmin       34900.000000\n25%      129975.000000\n50%      163000.000000\n75%      214000.000000\nmax      755000.000000\nName: SalePrice, dtype: float64"
     },
     "execution_count": 137,
     "metadata": {},
     "output_type": "execute_result"
    }
   ],
   "source": [
    "train.SalePrice.describe()"
   ],
   "metadata": {
    "collapsed": false,
    "pycharm": {
     "name": "#%%\n"
    }
   }
  },
  {
   "cell_type": "code",
   "execution_count": 138,
   "outputs": [
    {
     "data": {
      "text/plain": "<seaborn.axisgrid.FacetGrid at 0x1880de0b070>"
     },
     "execution_count": 138,
     "metadata": {},
     "output_type": "execute_result"
    },
    {
     "data": {
      "text/plain": "<Figure size 720x360 with 1 Axes>",
      "image/png": "[encoded data removed]"
     },
     "metadata": {
      "needs_background": "light"
     },
     "output_type": "display_data"
    }
   ],
   "source": [
    "sns.displot(train.SalePrice, kind='hist', kde=True, color='b', bins=100, height=5, aspect=2)"
   ],
   "metadata": {
    "collapsed": false,
    "pycharm": {
     "name": "#%%\n"
    }
   }
  },
  {
   "cell_type": "markdown",
   "source": [
    "## 2.2 Id 序号 （索引）"
   ],
   "metadata": {
    "collapsed": false,
    "pycharm": {
     "name": "#%% md\n"
    }
   }
  },
  {
   "cell_type": "code",
   "execution_count": 139,
   "outputs": [],
   "source": [
    "assert len(train.Id) + len(test.Id) == len(set(train.Id) | set(test.Id))"
   ],
   "metadata": {
    "collapsed": false,
    "pycharm": {
     "name": "#%%\n"
    }
   }
  },
  {
   "cell_type": "markdown",
   "source": [
    "结论：训练集与测试集之间及内部无重复Id"
   ],
   "metadata": {
    "collapsed": false,
    "pycharm": {
     "name": "#%% md\n"
    }
   }
  },
  {
   "cell_type": "markdown",
   "source": [
    "## 2.3 MSSubClass 建筑类别 The building class\n",
    "属性释义：标识销售中涉及的住宅类型。\n",
    "> Identifies the type of dwelling involved in the sale.\n",
    "\n",
    "数据类型：int64\n",
    "数据类别：无序类别型\n",
    "\n",
    "取值范围：\n",
    "+  20 1-STORY 1946 & NEWER ALL STYLES\n",
    "+  30 1-STORY 1945 & OLDER\n",
    "+  40 1-STORY W/FINISHED ATTIC ALL AGES\n",
    "+  45 1-1/2 STORY - UNFINISHED ALL AGES\n",
    "+  50 1-1/2 STORY FINISHED ALL AGES\n",
    "+  60 2-STORY 1946 & NEWER\n",
    "+  70 2-STORY 1945 & OLDER\n",
    "+  75 2-1/2 STORY ALL AGES\n",
    "+  80 SPLIT OR MULTI-LEVEL\n",
    "+  85 SPLIT FOYER\n",
    "+  90 DUPLEX - ALL STYLES AND AGES\n",
    "+ 120 1-STORY PUD (Planned Unit Development) - 1946 & NEWER\n",
    "+ 150 1-1/2 STORY PUD - ALL AGES\n",
    "+ 160 2-STORY PUD - 1946 & NEWER\n",
    "+ 180 PUD - MULTILEVEL - INCL SPLIT LEV/FOYER\n",
    "+ 190 2 FAMILY CONVERSION - ALL STYLES AND AGES\n",
    "\n",
    "缺失值：无\n",
    "异常值：无"
   ],
   "metadata": {
    "collapsed": false,
    "pycharm": {
     "name": "#%% md\n"
    }
   }
  },
  {
   "cell_type": "code",
   "execution_count": 140,
   "outputs": [],
   "source": [
    "MSSubClass_kinds = {20, 30, 40, 45, 50, 60, 70, 75, 80, 85, 90, 120, 150, 160, 180, 190}\n",
    "train_MSSubClass_set = set(train['MSSubClass'])\n",
    "test_MSSubClass_set = set(test['MSSubClass'])\n",
    "MSSubClass_set = train_MSSubClass_set & test_MSSubClass_set\n",
    "assert MSSubClass_set - MSSubClass_kinds == set()"
   ],
   "metadata": {
    "collapsed": false,
    "pycharm": {
     "name": "#%%\n"
    }
   }
  },
  {
   "cell_type": "markdown",
   "source": [
    "结论：MSSubClass属性不存在取值范围之外的异常值"
   ],
   "metadata": {
    "collapsed": false,
    "pycharm": {
     "name": "#%% md\n"
    }
   }
  },
  {
   "cell_type": "code",
   "execution_count": 141,
   "outputs": [
    {
     "data": {
      "text/plain": "{150}"
     },
     "execution_count": 141,
     "metadata": {},
     "output_type": "execute_result"
    }
   ],
   "source": [
    "MSSubClass_kinds - train_MSSubClass_set"
   ],
   "metadata": {
    "collapsed": false,
    "pycharm": {
     "name": "#%%\n"
    }
   }
  },
  {
   "cell_type": "markdown",
   "source": [
    "结论：训练集MSSubClass属性不含150 1-1/2 STORY PUD - ALL AGES"
   ],
   "metadata": {
    "collapsed": false,
    "pycharm": {
     "name": "#%% md\n"
    }
   }
  },
  {
   "cell_type": "code",
   "execution_count": 142,
   "outputs": [
    {
     "data": {
      "text/plain": "set()"
     },
     "execution_count": 142,
     "metadata": {},
     "output_type": "execute_result"
    }
   ],
   "source": [
    "MSSubClass_kinds - test_MSSubClass_set"
   ],
   "metadata": {
    "collapsed": false,
    "pycharm": {
     "name": "#%%\n"
    }
   }
  },
  {
   "cell_type": "markdown",
   "source": [
    "结论：测试集MSSubClass属性包含了所有可能的值"
   ],
   "metadata": {
    "collapsed": false,
    "pycharm": {
     "name": "#%% md\n"
    }
   }
  },
  {
   "cell_type": "code",
   "execution_count": 143,
   "outputs": [
    {
     "data": {
      "text/plain": "<Figure size 864x432 with 1 Axes>",
      "image/png": "[encoded data removed]"
     },
     "metadata": {
      "needs_background": "light"
     },
     "output_type": "display_data"
    }
   ],
   "source": [
    "train['MSSubClass'].value_counts().sort_index().plot(kind='bar', color='g', alpha=0.3, figsize=(12,6))\n",
    "test['MSSubClass'].value_counts().sort_index().plot(kind='bar', color='r', alpha=0.3, figsize=(12,6))\n",
    "plt.xlabel('MSSubClass',fontdict={'size':15})\n",
    "plt.ylabel('count',fontdict={'size':20})\n",
    "plt.legend(['train','test'])\n",
    "plt.show()"
   ],
   "metadata": {
    "collapsed": false,
    "pycharm": {
     "name": "#%%\n"
    }
   }
  },
  {
   "cell_type": "markdown",
   "source": [
    "## 2.4 MSZoning 土地类别 The general zoning classification\n",
    "属性释义：销售过程中土地类别的标识符。\n",
    ">Identifies the general zoning classification of the sale.\n",
    "\n",
    "数据类型：object\n",
    "数据类别：无序类别\n",
    "\n",
    "取值范围：\n",
    "+ A\tAgriculture 农业\n",
    "+ C\tCommercial 商业\n",
    "+ FV\tFloating Village Residential 浮动乡村住宅\n",
    "+ I\tIndustrial 工业\n",
    "+ RH\tResidential High Density 高密度居民区\n",
    "+ RL\tResidential Low Density 低密度居民区\n",
    "+ RP\tResidential Low Density Park 低密度公园\n",
    "+ RM\tResidential Medium Density 中等密度居民区\n",
    "\n",
    "缺失值：训练集无缺失值，测试集缺失0.27%\n",
    "异常值：C 被标记为 C (all)"
   ],
   "metadata": {
    "collapsed": false,
    "pycharm": {
     "name": "#%% md\n"
    }
   }
  },
  {
   "cell_type": "code",
   "execution_count": 144,
   "outputs": [
    {
     "data": {
      "text/plain": "({'C (all)', 'FV', 'RH', 'RL', 'RM'}, {'C (all)', 'FV', 'RH', 'RL', 'RM', nan})"
     },
     "execution_count": 144,
     "metadata": {},
     "output_type": "execute_result"
    }
   ],
   "source": [
    "set(train.MSZoning), set(test.MSZoning)"
   ],
   "metadata": {
    "collapsed": false,
    "pycharm": {
     "name": "#%%\n"
    }
   }
  },
  {
   "cell_type": "code",
   "execution_count": 145,
   "outputs": [
    {
     "data": {
      "text/plain": "0.2741603838245374"
     },
     "execution_count": 145,
     "metadata": {},
     "output_type": "execute_result"
    }
   ],
   "source": [
    "test['MSZoning'].isnull().sum() / test['MSZoning'].shape[0] * 100"
   ],
   "metadata": {
    "collapsed": false,
    "pycharm": {
     "name": "#%%\n"
    }
   }
  },
  {
   "cell_type": "code",
   "execution_count": 146,
   "outputs": [
    {
     "data": {
      "text/plain": "<seaborn.axisgrid.FacetGrid at 0x1880de16f40>"
     },
     "execution_count": 146,
     "metadata": {},
     "output_type": "execute_result"
    },
    {
     "data": {
      "text/plain": "<Figure size 421x360 with 1 Axes>",
      "image/png": "[encoded data removed]"
     },
     "metadata": {
      "needs_background": "light"
     },
     "output_type": "display_data"
    }
   ],
   "source": [
    "train_df, test_df = (ds['MSZoning'].value_counts().copy().reset_index()\n",
    "                     for ds in [train, test])\n",
    "train_df['dataSet'] = 'train'; test_df['dataSet'] = 'test'\n",
    "df = pd.concat([train_df, test_df])\n",
    "df.columns = ['MSZoing', 'count', 'dataSet']\n",
    "sns.catplot(data=df, kind='bar', x='MSZoing', y='count', hue='dataSet')"
   ],
   "metadata": {
    "collapsed": false,
    "pycharm": {
     "name": "#%%\n"
    }
   }
  },
  {
   "cell_type": "markdown",
   "source": [
    "## 2.5 LotFrontage 房屋与街道的直线距离 Linear feet of street connected to property\n",
    "数据类型：float64\n",
    "数据类别：数值型\n",
    "单位：英尺\n",
    "取值范围：训练集21-313， 测试集21-200\n",
    "缺失值：训练集缺失17.74%，测试集缺失15.56%\n",
    "异常值："
   ],
   "metadata": {
    "collapsed": false,
    "pycharm": {
     "name": "#%% md\n"
    }
   }
  },
  {
   "cell_type": "code",
   "execution_count": 147,
   "outputs": [
    {
     "data": {
      "text/plain": "[17.74, 15.56]"
     },
     "execution_count": 147,
     "metadata": {},
     "output_type": "execute_result"
    }
   ],
   "source": [
    "[round(ds.LotFrontage.isnull().sum() / ds.shape[0] * 100, 2) for ds in [train, test]]"
   ],
   "metadata": {
    "collapsed": false,
    "pycharm": {
     "name": "#%%\n"
    }
   }
  },
  {
   "cell_type": "code",
   "execution_count": 148,
   "outputs": [
    {
     "name": "stdout",
     "output_type": "stream",
     "text": [
      "[(21.0, 313.0), (21.0, 200.0)]\n"
     ]
    }
   ],
   "source": [
    "print([(ds.LotFrontage.min(), ds.LotFrontage.max()) for ds in [train, test]])"
   ],
   "metadata": {
    "collapsed": false,
    "pycharm": {
     "name": "#%%\n"
    }
   }
  },
  {
   "cell_type": "markdown",
   "source": [
    "猜测LotFrontage小数位均为0，字段可以转换为uint16类型"
   ],
   "metadata": {
    "collapsed": false,
    "pycharm": {
     "name": "#%% md\n"
    }
   }
  },
  {
   "cell_type": "code",
   "execution_count": 149,
   "outputs": [
    {
     "data": {
      "text/plain": "{0.0}"
     },
     "execution_count": 149,
     "metadata": {},
     "output_type": "execute_result"
    }
   ],
   "source": [
    "set((value % 1 for ds in [train, test] for value in ds.LotFrontage.copy().dropna()))"
   ],
   "metadata": {
    "collapsed": false,
    "pycharm": {
     "name": "#%%\n"
    }
   }
  },
  {
   "cell_type": "code",
   "execution_count": 162,
   "outputs": [
    {
     "data": {
      "text/plain": "<Figure size 864x432 with 1 Axes>",
      "image/png": "[encoded data removed]"
     },
     "metadata": {
      "needs_background": "light"
     },
     "output_type": "display_data"
    }
   ],
   "source": [
    "train_df, test_df = (ds.LotFrontage.to_frame().dropna() for ds in [train, test])\n",
    "train_df['dataSet'], test_df['dataSet'] = 'train', 'test'\n",
    "df = pd.concat([train_df, test_df]).reset_index()\n",
    "plt.figure(figsize=(12, 6))\n",
    "sns.histplot(data=df, x='LotFrontage', bins=100, hue='dataSet', element='step')\n",
    "plt.show()"
   ],
   "metadata": {
    "collapsed": false,
    "pycharm": {
     "name": "#%%\n"
    }
   }
  },
  {
   "cell_type": "markdown",
   "source": [
    "## 2.6 LotArea 地块面积 Lot size in square feet\n",
    "数据类型：int64\n",
    "数据类别：数值型\n",
    "单位：平方英尺\n",
    "取值范围：训练集1300-215245，测试集1470-56600\n",
    "缺失值：无\n",
    "异常值：无"
   ],
   "metadata": {
    "collapsed": false,
    "pycharm": {
     "name": "#%% md\n"
    }
   }
  },
  {
   "cell_type": "code",
   "execution_count": 150,
   "outputs": [
    {
     "data": {
      "text/plain": "[(0, 1300, 215245), (0, 1470, 56600)]"
     },
     "execution_count": 150,
     "metadata": {},
     "output_type": "execute_result"
    }
   ],
   "source": [
    "[(x.isnull().sum(), x.min(), x.max()) for x in [train.LotArea, test.LotArea]]"
   ],
   "metadata": {
    "collapsed": false,
    "pycharm": {
     "name": "#%%\n"
    }
   }
  },
  {
   "cell_type": "code",
   "execution_count": 163,
   "outputs": [
    {
     "data": {
      "text/plain": "<Figure size 864x432 with 1 Axes>",
      "image/png": "[encoded data removed]"
     },
     "metadata": {
      "needs_background": "light"
     },
     "output_type": "display_data"
    }
   ],
   "source": [
    "train_df, test_df = (ds.LotArea.to_frame() for ds in [train, test])\n",
    "train_df['dataSet'], test_df['dataSet'] = 'train', 'test'\n",
    "df = pd.concat([train_df, test_df]).reset_index()\n",
    "plt.figure(figsize=(12, 6))\n",
    "sns.histplot(data=df, x='LotArea', bins=100, hue='dataSet', element='step')\n",
    "plt.show()"
   ],
   "metadata": {
    "collapsed": false,
    "pycharm": {
     "name": "#%%\n"
    }
   }
  },
  {
   "cell_type": "markdown",
   "source": [
    "## 2.7 Street 道路类型 Type of road access\n",
    "字段释义：与地产相连接的道路类型\n",
    ">Type of road access to property\n",
    "\n",
    "数据类型：object\n",
    "数据类别：无序类别型\n",
    "取值范围：\n",
    "+ Grvl\tGravel 砂石路\n",
    "+ Pave\tPaved 铺装路\n",
    "\n",
    "缺失值：无\n",
    "异常值：无"
   ],
   "metadata": {
    "collapsed": false,
    "pycharm": {
     "name": "#%% md\n"
    }
   }
  },
  {
   "cell_type": "code",
   "execution_count": 152,
   "outputs": [
    {
     "data": {
      "text/plain": "({'Grvl', 'Pave'}, {'Grvl', 'Pave'})"
     },
     "execution_count": 152,
     "metadata": {},
     "output_type": "execute_result"
    }
   ],
   "source": [
    "set(train.Street),set(test.Street)"
   ],
   "metadata": {
    "collapsed": false,
    "pycharm": {
     "name": "#%%\n"
    }
   }
  },
  {
   "cell_type": "code",
   "execution_count": 153,
   "outputs": [
    {
     "data": {
      "text/plain": "[0, 0]"
     },
     "execution_count": 153,
     "metadata": {},
     "output_type": "execute_result"
    }
   ],
   "source": [
    "[data_set.Street.isnull().sum() for data_set in (train, test)]"
   ],
   "metadata": {
    "collapsed": false,
    "pycharm": {
     "name": "#%%\n"
    }
   }
  },
  {
   "cell_type": "code",
   "execution_count": 154,
   "outputs": [
    {
     "data": {
      "text/plain": "<seaborn.axisgrid.FacetGrid at 0x1880d777f10>"
     },
     "execution_count": 154,
     "metadata": {},
     "output_type": "execute_result"
    },
    {
     "data": {
      "text/plain": "<Figure size 421x360 with 1 Axes>",
      "image/png": "[encoded data removed]"
     },
     "metadata": {
      "needs_background": "light"
     },
     "output_type": "display_data"
    }
   ],
   "source": [
    "train_df, test_df = (ds['Street'].value_counts().reset_index().copy()\n",
    "                     for ds in [train, test])\n",
    "train_df['dataSet'] = 'train'\n",
    "test_df['dataSet'] = 'test'\n",
    "df = pd.concat([train_df, test_df])\n",
    "df.columns = ['Street', 'count', 'dataSet']\n",
    "sns.catplot(data=df, kind='bar', x='Street', y='count', hue='dataSet')"
   ],
   "metadata": {
    "collapsed": false,
    "pycharm": {
     "name": "#%%\n"
    }
   }
  },
  {
   "cell_type": "markdown",
   "source": [
    "## 2.8 Alley 小街类型 Type of alley access\n",
    "字段释义：与地产相连的小街类型\n",
    ">Type of alley access to property\n",
    "\n",
    "数据类型：object\n",
    "数据类别：无序类别型\n",
    "取值范围：\n",
    "+ Grvl\tGravel 砂石路\n",
    "+ Pave\tPaved 铺装路\n",
    "+ NA \tNo alley access 没有小街\n",
    "\n",
    "缺失值：训练集缺失94%，测试集缺失93%\n",
    "异常值：无\n"
   ],
   "metadata": {
    "collapsed": false,
    "pycharm": {
     "name": "#%% md\n"
    }
   }
  },
  {
   "cell_type": "code",
   "execution_count": 155,
   "outputs": [
    {
     "data": {
      "text/plain": "({'Grvl', 'Pave', nan}, {'Grvl', 'Pave', nan})"
     },
     "execution_count": 155,
     "metadata": {},
     "output_type": "execute_result"
    }
   ],
   "source": [
    "set(train.Alley),set(test.Alley)"
   ],
   "metadata": {
    "collapsed": false,
    "pycharm": {
     "name": "#%%\n"
    }
   }
  },
  {
   "cell_type": "code",
   "execution_count": 156,
   "outputs": [
    {
     "data": {
      "text/plain": "[93.76712328767123, 92.66620973269363]"
     },
     "execution_count": 156,
     "metadata": {},
     "output_type": "execute_result"
    }
   ],
   "source": [
    "[data_set.Alley.isnull().sum() / data_set.shape[0] * 100\n",
    " for data_set in (train, test)]"
   ],
   "metadata": {
    "collapsed": false,
    "pycharm": {
     "name": "#%%\n"
    }
   }
  },
  {
   "cell_type": "code",
   "execution_count": 157,
   "outputs": [
    {
     "data": {
      "text/plain": "<seaborn.axisgrid.FacetGrid at 0x1880f027e20>"
     },
     "execution_count": 157,
     "metadata": {},
     "output_type": "execute_result"
    },
    {
     "data": {
      "text/plain": "<Figure size 421x360 with 1 Axes>",
      "image/png": "[encoded data removed]"
     },
     "metadata": {
      "needs_background": "light"
     },
     "output_type": "display_data"
    }
   ],
   "source": [
    "train_df, test_df = (ds['Alley'].copy().fillna('blank').value_counts().reset_index()\n",
    "                     for ds in [train, test])\n",
    "train_df['dataSet'] = 'train'\n",
    "test_df['dataSet'] = 'test'\n",
    "df = pd.concat([train_df, test_df])\n",
    "df.columns = ['Alley', 'count', 'dataSet']\n",
    "sns.catplot(data=df, kind='bar', x='Alley', y='count', hue='dataSet')"
   ],
   "metadata": {
    "collapsed": false,
    "pycharm": {
     "name": "#%%\n"
    }
   }
  },
  {
   "cell_type": "markdown",
   "source": [
    "## 2.9 LotShape 户型规整程度  General shape of property\n",
    "数据类型：object\n",
    "数据类别：有序类别型\n",
    "取值范围：\n",
    "+ Reg\tRegular 规整\n",
    "+ IR1\tSlightly irregular 略微不规整\n",
    "+ IR2\tModerately Irregular 中度不规整\n",
    "+ IR3\tIrregular 不规整\n",
    "\n",
    "缺失值：\n",
    "异常值："
   ],
   "metadata": {
    "collapsed": false,
    "pycharm": {
     "name": "#%% md\n"
    }
   }
  },
  {
   "cell_type": "code",
   "execution_count": 157,
   "outputs": [],
   "source": [],
   "metadata": {
    "collapsed": false,
    "pycharm": {
     "name": "#%%\n"
    }
   }
  },
  {
   "cell_type": "markdown",
   "source": [
    "## 2.10 LandContour 地面平坦状况 Flatness of the property\n",
    "数据类型：object\n",
    "数据类别：无序类别型\n",
    "取值范围：\n",
    "+ Lvl\tNear Flat/Level 近乎平坦或水平\n",
    "+ Bnk\tBanked - Quick and significant rise from street grade to building 隆起\n",
    "+ HLS\tHillside - Significant slope from side to side 斜坡\n",
    "+ Low\tDepression 低洼地\n",
    "\n",
    "缺失值：\n",
    "异常值："
   ],
   "metadata": {
    "collapsed": false,
    "pycharm": {
     "name": "#%% md\n"
    }
   }
  },
  {
   "cell_type": "code",
   "execution_count": 157,
   "outputs": [],
   "source": [],
   "metadata": {
    "collapsed": false,
    "pycharm": {
     "name": "#%%\n"
    }
   }
  },
  {
   "cell_type": "markdown",
   "source": [
    "## 2.11 Utilities 资源联通情况 Type of utilities available\n",
    "数据类型：object\n",
    "数据类别：有序类别型\n",
    "取值范围：\n",
    "+ AllPub\tAll public Utilities (E,G,W,& S) 通电、燃气、上水、下水\n",
    "+ NoSewr\tElectricity, Gas, and Water (Septic Tank) 通电、燃气、上水\n",
    "+ NoSeWa\tElectricity and Gas Only 通电、燃气\n",
    "+ ELO\tElectricity only 仅通电\n",
    "\n",
    "缺失值：\n",
    "异常值："
   ],
   "metadata": {
    "collapsed": false,
    "pycharm": {
     "name": "#%% md\n"
    }
   }
  },
  {
   "cell_type": "code",
   "execution_count": 157,
   "outputs": [],
   "source": [],
   "metadata": {
    "collapsed": false,
    "pycharm": {
     "name": "#%%\n"
    }
   }
  },
  {
   "cell_type": "markdown",
   "source": [
    "## 2.12 LotConfig 临街状况 Lot configuration\n",
    "数据类型：object\n",
    "数据类别：无序类别型\n",
    "取值范围：\n",
    "+ Inside\tInside lot 内部地块\n",
    "+ Corner\tCorner lot 转角地块\n",
    "+ CulDSac\tCul-de-sac 死胡同\n",
    "+ FR2\tFrontage on 2 sides of property 对面临街\n",
    "+ FR3\tFrontage on 3 sides of property 三面临街\n",
    "\n",
    "缺失值：\n",
    "异常值："
   ],
   "metadata": {
    "collapsed": false,
    "pycharm": {
     "name": "#%% md\n"
    }
   }
  },
  {
   "cell_type": "code",
   "execution_count": 157,
   "outputs": [],
   "source": [
    " "
   ],
   "metadata": {
    "collapsed": false,
    "pycharm": {
     "name": "#%%\n"
    }
   }
  },
  {
   "cell_type": "markdown",
   "source": [
    "## 2.13 LandSlope 土地坡度 Slope of property\n",
    "数据类型：object\n",
    "数据类别：有序类别型\n",
    "取值范围：\n",
    "+ Gtl\tGentle slope 缓坡\n",
    "+ Mod\tModerate Slope 中等坡度\n",
    "+ Sev\tSevere Slope 严重坡度\n",
    "\n",
    "缺失值：\n",
    "异常值：\n"
   ],
   "metadata": {
    "collapsed": false,
    "pycharm": {
     "name": "#%% md\n"
    }
   }
  },
  {
   "cell_type": "code",
   "execution_count": 157,
   "outputs": [],
   "source": [],
   "metadata": {
    "collapsed": false,
    "pycharm": {
     "name": "#%%\n"
    }
   }
  },
  {
   "cell_type": "markdown",
   "source": [
    "## 2.14 Neighborhood  城市范围内的实际位置 Physical locations within Ames city limits\n",
    "数据类型：object\n",
    "数据类别：无序类别型\n",
    "取值范围：\n",
    "+  Blmngtn\tBloomington Heights\n",
    "+  Blueste\tBluestem\n",
    "+  BrDale\tBriardale\n",
    "+  BrkSide\tBrookside\n",
    "+  ClearCr\tClear Creek\n",
    "+  CollgCr\tCollege Creek\n",
    "+  Crawfor\tCrawford\n",
    "+  Edwards\tEdwards\n",
    "+  Gilbert\tGilbert\n",
    "+  IDOTRR\tIowa DOT and Rail Road\n",
    "+  MeadowV\tMeadow Village\n",
    "+  Mitchel\tMitchell\n",
    "+  Names\tNorth Ames\n",
    "+  NoRidge\tNorthridge\n",
    "+  NPkVill\tNorthpark Villa\n",
    "+  NridgHt\tNorthridge Heights\n",
    "+  NWAmes\tNorthwest Ames\n",
    "+  OldTown\tOld Town\n",
    "+  SWISU\tSouth & West of Iowa State University\n",
    "+  Sawyer\tSawyer\n",
    "+  SawyerW\tSawyer West\n",
    "+  Somerst\tSomerset\n",
    "+  StoneBr\tStone Brook\n",
    "+  Timber\tTimberland\n",
    "+  Veenker\tVeenker\n",
    "\n",
    "缺失值：无\n",
    "异常值：无"
   ],
   "metadata": {
    "collapsed": false,
    "pycharm": {
     "name": "#%% md\n"
    }
   }
  },
  {
   "cell_type": "code",
   "execution_count": 157,
   "outputs": [],
   "source": [],
   "metadata": {
    "collapsed": false,
    "pycharm": {
     "name": "#%%\n"
    }
   }
  },
  {
   "cell_type": "markdown",
   "source": [
    "## 2.15 Condition1 相邻的公路或铁路 Proximity to main road or railroad\n",
    "数据类型：object\n",
    "数据类别：无序类别型\n",
    "取值范围：\n",
    "+ Artery\tAdjacent to arterial street\n",
    "+ Feedr\tAdjacent to feeder street\n",
    "+ Norm\tNormal\n",
    "+ RRNn\tWithin 200' of North-South Railroad\n",
    "+ RRAn\tAdjacent to North-South Railroad\n",
    "+ PosN\tNear positive off-site feature--park, greenbelt, etc.\n",
    "+ PosA\tAdjacent to postive off-site feature\n",
    "+ RRNe\tWithin 200' of East-West Railroad\n",
    "+ RRAe\tAdjacent to East-West Railroad\n",
    "\n",
    "缺失值：无\n",
    "异常值：无"
   ],
   "metadata": {
    "collapsed": false,
    "pycharm": {
     "name": "#%% md\n"
    }
   }
  },
  {
   "cell_type": "code",
   "execution_count": 157,
   "outputs": [],
   "source": [],
   "metadata": {
    "collapsed": false,
    "pycharm": {
     "name": "#%%\n"
    }
   }
  },
  {
   "cell_type": "markdown",
   "source": [
    "## 2.16 Condition2 相邻的第二个公路或铁路 Proximity to main road or railroad (if a second is present)\n",
    "数据类型：object\n",
    "数据类别：无序类别型\n",
    "取值范围：\n",
    "+ Artery\tAdjacent to arterial street\n",
    "+ Feedr\tAdjacent to feeder street\n",
    "+ Norm\tNormal\n",
    "+ RRNn\tWithin 200' of North-South Railroad\n",
    "+ RRAn\tAdjacent to North-South Railroad\n",
    "+ PosN\tNear positive off-site feature--park, greenbelt, etc.\n",
    "+ PosA\tAdjacent to postive off-site feature\n",
    "+ RRNe\tWithin 200' of East-West Railroad\n",
    "+ RRAe\tAdjacent to East-West Railroad\n",
    "\n",
    "缺失值：无\n",
    "异常值：无"
   ],
   "metadata": {
    "collapsed": false,
    "pycharm": {
     "name": "#%% md\n"
    }
   }
  },
  {
   "cell_type": "code",
   "execution_count": 157,
   "outputs": [],
   "source": [],
   "metadata": {
    "collapsed": false,
    "pycharm": {
     "name": "#%%\n"
    }
   }
  },
  {
   "cell_type": "markdown",
   "source": [
    "## 2.17 BldgType 住宅类型 Type of dwelling\n",
    "数据类型：object\n",
    "数据类别：无序类别型\n",
    "取值范围：\n",
    "+ 1Fam\tSingle-family Detached\t独栋\n",
    "+ 2FmCon\tTwo-family Conversion; originally built as one-family dwelling 叠拼\n",
    "+ Duplx\tDuplex 跃层\n",
    "+ TwnhsE\tTownhouse End Unit 联排边户\n",
    "+ TwnhsI\tTownhouse Inside Unit 联排中间户\n",
    "\n",
    "缺失值：无\n",
    "异常值：无"
   ],
   "metadata": {
    "collapsed": false,
    "pycharm": {
     "name": "#%% md\n"
    }
   }
  },
  {
   "cell_type": "code",
   "execution_count": 157,
   "outputs": [],
   "source": [],
   "metadata": {
    "collapsed": false,
    "pycharm": {
     "name": "#%%\n"
    }
   }
  },
  {
   "cell_type": "markdown",
   "source": [
    "## 2.18 HouseStyle 房屋风格 Style of dwelling\n",
    "数据类型：object\n",
    "数据类别：无序类别型\n",
    "取值范围：\n",
    "+ 1Story\tOne story\n",
    "+ 1.5Fin\tOne and one-half story: 2nd level finished\n",
    "+ 1.5Unf\tOne and one-half story: 2nd level unfinished\n",
    "+ 2Story\tTwo story\n",
    "+ 2.5Fin\tTwo and one-half story: 2nd level finished\n",
    "+ 2.5Unf\tTwo and one-half story: 2nd level unfinished\n",
    "+ SFoyer\tSplit Foyer\n",
    "+ SLvl\tSplit Level\n",
    "\n",
    "缺失值：无\n",
    "异常值：无"
   ],
   "metadata": {
    "collapsed": false,
    "pycharm": {
     "name": "#%% md\n"
    }
   }
  },
  {
   "cell_type": "code",
   "execution_count": 157,
   "outputs": [],
   "source": [],
   "metadata": {
    "collapsed": false,
    "pycharm": {
     "name": "#%%\n"
    }
   }
  },
  {
   "cell_type": "markdown",
   "source": [
    "## 2.19 OverallQual 装修程度 Overall material and finish quality\n",
    "属性释义：房屋用料和饰面评级\n",
    ">Rates the overall material and finish of the house\n",
    "\n",
    "数据类型：int64\n",
    "数据类别：有序类别\n",
    "取值范围：\n",
    "+ 10\tVery Excellent\n",
    "+ 9\tExcellent\n",
    "+ 8\tVery Good\n",
    "+ 7\tGood\n",
    "+ 6\tAbove Average\n",
    "+ 5\tAverage\n",
    "+ 4\tBelow Average\n",
    "+ 3\tFair\n",
    "+ 2\tPoor\n",
    "+ 1\tVery Poor\n",
    "\n",
    "缺失值：无\n",
    "异常值：无"
   ],
   "metadata": {
    "collapsed": false,
    "pycharm": {
     "name": "#%% md\n"
    }
   }
  },
  {
   "cell_type": "code",
   "execution_count": 157,
   "outputs": [],
   "source": [],
   "metadata": {
    "collapsed": false,
    "pycharm": {
     "name": "#%%\n"
    }
   }
  },
  {
   "cell_type": "markdown",
   "source": [
    "## 2.20 OverallCond 综合状况 Overall condition rating\n",
    "属性释义：房屋状况评级\n",
    ">Rates the overall condition of the house\n",
    "\n",
    "数据类型：int64\n",
    "数据类别：\n",
    "取值范围：\n",
    "+ 10\tVery Excellent\n",
    "+ 9\tExcellent\n",
    "+ 8\tVery Good\n",
    "+ 7\tGood\n",
    "+ 6\tAbove Average\n",
    "+ 5\tAverage\n",
    "+ 4\tBelow Average\n",
    "+ 3\tFair\n",
    "+ 2\tPoor\n",
    "+ 1\tVery Poor\n",
    "\n",
    "缺失值：无\n",
    "异常值：无"
   ],
   "metadata": {
    "collapsed": false,
    "pycharm": {
     "name": "#%% md\n"
    }
   }
  },
  {
   "cell_type": "code",
   "execution_count": 157,
   "outputs": [],
   "source": [],
   "metadata": {
    "collapsed": false,
    "pycharm": {
     "name": "#%%\n"
    }
   }
  },
  {
   "cell_type": "markdown",
   "source": [
    "## 2.21 YearBuilt 建筑年份 Original construction date\n",
    "数据类型：int64\n",
    "数据类别：日期\n",
    "单位：年\n",
    "取值范围：\n",
    "缺失值：无\n",
    "异常值：无"
   ],
   "metadata": {
    "collapsed": false,
    "pycharm": {
     "name": "#%% md\n"
    }
   }
  },
  {
   "cell_type": "code",
   "execution_count": 157,
   "outputs": [],
   "source": [],
   "metadata": {
    "collapsed": false,
    "pycharm": {
     "name": "#%%\n"
    }
   }
  },
  {
   "cell_type": "markdown",
   "source": [
    "## 2.22 YearRemodAdd 改建日期 Remodel date\n",
    "属性释义：改建日期（如果没有改建过，同建筑日期）\n",
    "> Remodel date (same as construction date if no remodeling or additions)\n",
    "\n",
    "数据类型：int64\n",
    "数据类别：日期\n",
    "单位：年\n",
    "取值范围：\n",
    "缺失值：无\n",
    "异常值：无"
   ],
   "metadata": {
    "collapsed": false,
    "pycharm": {
     "name": "#%% md\n"
    }
   }
  },
  {
   "cell_type": "code",
   "execution_count": 157,
   "outputs": [],
   "source": [],
   "metadata": {
    "collapsed": false,
    "pycharm": {
     "name": "#%%\n"
    }
   }
  },
  {
   "cell_type": "markdown",
   "source": [
    "## 2.23 RoofStyle 屋顶类型 Type of roof\n",
    "数据类型：object\n",
    "数据类别：无序类别型\n",
    "取值范围：\n",
    "+ Flat\tFlat\n",
    "+ Gable\tGable\n",
    "+ Gambrel\tGabrel (Barn)\n",
    "+ Hip\tHip\n",
    "+ Mansard\tMansard\n",
    "+ Shed\tShed\n",
    "\n",
    "缺失值：无\n",
    "异常值：无"
   ],
   "metadata": {
    "collapsed": false,
    "pycharm": {
     "name": "#%% md\n"
    }
   }
  },
  {
   "cell_type": "code",
   "execution_count": 157,
   "outputs": [],
   "source": [],
   "metadata": {
    "collapsed": false,
    "pycharm": {
     "name": "#%%\n"
    }
   }
  },
  {
   "cell_type": "markdown",
   "source": [
    "## 2.24 RoofMatl 屋顶材料 Roof material\n",
    "数据类型：object\n",
    "数据类别：无序类别型\n",
    "取值范围：\n",
    "+ ClyTile\tClay or Tile\n",
    "+ CompShg\tStandard (Composite) Shingle\n",
    "+ Membran\tMembrane\n",
    "+ Metal\tMetal\n",
    "+ Roll\tRoll\n",
    "+ Tar&Grv\tGravel & Tar\n",
    "+ WdShake\tWood Shakes\n",
    "+ WdShngl\tWood Shingles\n",
    "\n",
    "缺失值：无\n",
    "异常值：无"
   ],
   "metadata": {
    "collapsed": false,
    "pycharm": {
     "name": "#%% md\n"
    }
   }
  },
  {
   "cell_type": "code",
   "execution_count": 157,
   "outputs": [],
   "source": [],
   "metadata": {
    "collapsed": false,
    "pycharm": {
     "name": "#%%\n"
    }
   }
  },
  {
   "cell_type": "markdown",
   "source": [
    "## 2.25 Exterior1st 房屋外部覆盖物 Exterior covering on house\n",
    "数据类型：object\n",
    "数据类别：无序类别型\n",
    "取值范围：\n",
    "+ AsbShng\tAsbestos Shingles\n",
    "+ AsphShn\tAsphalt Shingles\n",
    "+ BrkComm\tBrick Common\n",
    "+ BrkFace\tBrick Face\n",
    "+ CBlock\tCinder Block\n",
    "+ CemntBd\tCement Board\n",
    "+ HdBoard\tHard Board\n",
    "+ ImStucc\tImitation Stucco\n",
    "+ MetalSd\tMetal Siding\n",
    "+ Other\tOther\n",
    "+ Plywood\tPlywood\n",
    "+ PreCast\tPreCast\n",
    "+ Stone\tStone\n",
    "+ Stucco\tStucco\n",
    "+ VinylSd\tVinyl Siding\n",
    "+ Wd Sdng\tWood Siding\n",
    "+ WdShing\tWood Shingles\n",
    "\n",
    "缺失值：无\n",
    "异常值：无"
   ],
   "metadata": {
    "collapsed": false,
    "pycharm": {
     "name": "#%% md\n"
    }
   }
  },
  {
   "cell_type": "markdown",
   "source": [],
   "metadata": {
    "collapsed": false,
    "pycharm": {
     "name": "#%% md\n"
    }
   }
  },
  {
   "cell_type": "code",
   "execution_count": 157,
   "outputs": [],
   "source": [],
   "metadata": {
    "collapsed": false,
    "pycharm": {
     "name": "#%%\n"
    }
   }
  },
  {
   "cell_type": "markdown",
   "source": [
    "## 2.26 Exterior2nd 第二种房屋外部覆盖物 Exterior covering on house (if more than one material)\n",
    "数据类型：object\n",
    "数据类别：无序类别型\n",
    "取值范围：\n",
    "+ AsbShng\tAsbestos Shingles\n",
    "+ AsphShn\tAsphalt Shingles\n",
    "+ BrkComm\tBrick Common\n",
    "+ BrkFace\tBrick Face\n",
    "+ CBlock\tCinder Block\n",
    "+ CemntBd\tCement Board\n",
    "+ HdBoard\tHard Board\n",
    "+ ImStucc\tImitation Stucco\n",
    "+ MetalSd\tMetal Siding\n",
    "+ Other\tOther\n",
    "+ Plywood\tPlywood\n",
    "+ PreCast\tPreCast\n",
    "+ Stone\tStone\n",
    "+ Stucco\tStucco\n",
    "+ VinylSd\tVinyl Siding\n",
    "+ Wd Sdng\tWood Siding\n",
    "+ WdShing\tWood Shingles\n",
    "\n",
    "缺失值：\n",
    "异常值："
   ],
   "metadata": {
    "collapsed": false,
    "pycharm": {
     "name": "#%% md\n"
    }
   }
  },
  {
   "cell_type": "markdown",
   "source": [],
   "metadata": {
    "collapsed": false,
    "pycharm": {
     "name": "#%% md\n"
    }
   }
  },
  {
   "cell_type": "code",
   "execution_count": 157,
   "outputs": [],
   "source": [],
   "metadata": {
    "collapsed": false,
    "pycharm": {
     "name": "#%%\n"
    }
   }
  },
  {
   "cell_type": "markdown",
   "source": [
    "## 2.27 MasVnrType 石制装饰面类型 Masonry veneer type\n",
    "数据类型：object\n",
    "数据类别：无序类别型\n",
    "取值范围：\n",
    "+ BrkCmn\tBrick Common\n",
    "+ BrkFace\tBrick Face\n",
    "+ CBlock\tCinder Block\n",
    "+ None\tNone\n",
    "+ Stone\tStone\n",
    "\n",
    "缺失值：\n",
    "异常值："
   ],
   "metadata": {
    "collapsed": false,
    "pycharm": {
     "name": "#%% md\n"
    }
   },
   "outputs": [],
   "execution_count": 1
  },
  {
   "cell_type": "markdown",
   "source": [],
   "metadata": {
    "collapsed": false,
    "pycharm": {
     "name": "#%% md\n"
    }
   }
  },
  {
   "cell_type": "code",
   "execution_count": 157,
   "outputs": [],
   "source": [],
   "metadata": {
    "collapsed": false,
    "pycharm": {
     "name": "#%%\n"
    }
   }
  },
  {
   "cell_type": "markdown",
   "source": [
    "## 2.28 MasVnrArea 石制装饰面面积 Masonry veneer area in square feet\n",
    "数据类型：float64\n",
    "数据类别：数值型\n",
    "单位：平方英尺\n",
    "取值范围：\n",
    "缺失值：\n",
    "异常值："
   ],
   "metadata": {
    "collapsed": false,
    "pycharm": {
     "name": "#%% md\n"
    }
   }
  },
  {
   "cell_type": "markdown",
   "source": [],
   "metadata": {
    "collapsed": false,
    "pycharm": {
     "name": "#%% md\n"
    }
   }
  },
  {
   "cell_type": "markdown",
   "source": [
    "## 2.29 ExterQual 外观质量 Exterior material quality\n",
    "属性释义：从外观评估材料的质量\n",
    ">Evaluates the quality of the material on the exterior\n",
    "\n",
    "数据类型：object\n",
    "数据类别：有序类别型\n",
    "取值范围：\n",
    "+ Ex\tExcellent\n",
    "+ Gd\tGood\n",
    "+ TA\tAverage/Typical\n",
    "+ Fa\tFair\n",
    "+ Po\tPoor\n",
    "\n",
    "缺失值：\n",
    "异常值："
   ],
   "metadata": {
    "collapsed": false,
    "pycharm": {
     "name": "#%% md\n"
    }
   }
  },
  {
   "cell_type": "markdown",
   "source": [],
   "metadata": {
    "collapsed": false,
    "pycharm": {
     "name": "#%% md\n"
    }
   }
  },
  {
   "cell_type": "markdown",
   "source": [
    "## 2.30 ExterCond 外观状况 condition of the material on the exterior\n",
    "属性释义：从外观评估材料的现状\n",
    ">Evaluates the present condition of the material on the exterior\n",
    "\n",
    "数据类型：object\n",
    "数据类别：有序类别型\n",
    "取值范围：\n",
    "+ Ex\tExcellent\n",
    "+ Gd\tGood\n",
    "+ TA\tAverage/Typical\n",
    "+ Fa\tFair\n",
    "+ Po\tPoor\n",
    "\n",
    "缺失值：\n",
    "异常值："
   ],
   "metadata": {
    "collapsed": false,
    "pycharm": {
     "name": "#%% md\n"
    }
   }
  },
  {
   "cell_type": "markdown",
   "source": [],
   "metadata": {
    "collapsed": false,
    "pycharm": {
     "name": "#%% md\n"
    }
   }
  },
  {
   "cell_type": "markdown",
   "source": [
    "## 2.31 Foundation 地基类型 Type of foundation\n",
    "数据类型：object\n",
    "数据类别：无序类别型\n",
    "取值范围：\n",
    "+ BrkTil\tBrick & Tile\n",
    "+ CBlock\tCinder Block\n",
    "+ PConc\tPoured Contrete\n",
    "+ Slab\tSlab\n",
    "+ Stone\tStone\n",
    "+ Wood\tWood\n",
    "\n",
    "缺失值：\n",
    "异常值："
   ],
   "metadata": {
    "collapsed": false,
    "pycharm": {
     "name": "#%% md\n"
    }
   }
  },
  {
   "cell_type": "markdown",
   "source": [],
   "metadata": {
    "collapsed": false,
    "pycharm": {
     "name": "#%% md\n"
    }
   }
  },
  {
   "cell_type": "markdown",
   "source": [
    "## 2.32 BsmtQual  Height of the basement\n",
    "属性释义：评估地下室高度\n",
    ">Evaluates the height of the basement\n",
    "\n",
    "数据类型：object\n",
    "数据类别：有序类别型\n",
    "取值范围：\n",
    "+ Ex\tExcellent (100+ inches)\n",
    "+ Gd\tGood (90-99 inches)\n",
    "+ TA\tTypical (80-89 inches)\n",
    "+ Fa\tFair (70-79 inches)\n",
    "+ Po\tPoor (<70 inches\n",
    "+ NA\tNo Basement\n",
    "\n",
    "缺失值：\n",
    "异常值："
   ],
   "metadata": {
    "collapsed": false,
    "pycharm": {
     "name": "#%% md\n"
    }
   }
  },
  {
   "cell_type": "markdown",
   "source": [],
   "metadata": {
    "collapsed": false,
    "pycharm": {
     "name": "#%% md\n"
    }
   }
  },
  {
   "cell_type": "markdown",
   "source": [
    "## 2.33 BsmtCond  General condition of the basement\n",
    "属性释义：评估地下室整体状况\n",
    ">Evaluates the general condition of the basement\n",
    "\n",
    "数据类型：object\n",
    "数据类别：有序类别型\n",
    "取值范围：\n",
    "+ Ex\tExcellent\n",
    "+ Gd\tGood\n",
    "+ TA\tTypical - slight dampness allowed\n",
    "+ Fa\tFair - dampness or some cracking or settling\n",
    "+ Po\tPoor - Severe cracking, settling, or wetness\n",
    "+ NA\tNo Basement\n",
    "\n",
    "缺失值：\n",
    "异常值：\n"
   ],
   "metadata": {
    "collapsed": false,
    "pycharm": {
     "name": "#%% md\n"
    }
   }
  },
  {
   "cell_type": "markdown",
   "source": [],
   "metadata": {
    "collapsed": false,
    "pycharm": {
     "name": "#%% md\n"
    }
   }
  },
  {
   "cell_type": "markdown",
   "source": [
    "## 2.34 BsmtExposure 地下室采光 Walkout or garden level basement walls\n",
    "属性释义：指露台或花园级别的墙体采光\n",
    ">Refers to walkout or garden level walls\n",
    "\n",
    "数据类型：object\n",
    "数据类别：有序类别型\n",
    "取值范围：\n",
    "+ Gd\tGood Exposure\n",
    "+ Av\tAverage Exposure (split levels or foyers typically score average or above)\n",
    "+ Mn\tMimimum Exposure\n",
    "+ No\tNo Exposure\n",
    "+ NA\tNo Basement\n",
    "\n",
    "缺失值：\n",
    "异常值："
   ],
   "metadata": {
    "collapsed": false,
    "pycharm": {
     "name": "#%% md\n"
    }
   }
  },
  {
   "cell_type": "markdown",
   "source": [],
   "metadata": {
    "collapsed": false,
    "pycharm": {
     "name": "#%% md\n"
    }
   }
  },
  {
   "cell_type": "markdown",
   "source": [
    "## 2.35 BsmtFinType1 地下室竣工区质量 Quality of basement finished area\n",
    "数据类型：object\n",
    "数据类别：有序类别型\n",
    "取值范围：\n",
    "+ GLQ\tGood Living Quarters\n",
    "+ ALQ\tAverage Living Quarters\n",
    "+ BLQ\tBelow Average Living Quarters\n",
    "+ Rec\tAverage Rec Room\n",
    "+ LwQ\tLow Quality\n",
    "+ Unf\tUnfinshed\n",
    "+ NA\tNo Basement\n",
    "\n",
    "缺失值：\n",
    "异常值："
   ],
   "metadata": {
    "collapsed": false,
    "pycharm": {
     "name": "#%% md\n"
    }
   }
  },
  {
   "cell_type": "markdown",
   "source": [],
   "metadata": {
    "collapsed": false,
    "pycharm": {
     "name": "#%% md\n"
    }
   }
  },
  {
   "cell_type": "markdown",
   "source": [
    "## 2.36 BsmtFinSF1 地下室竣工区面积 Type 1 finished square feet\n",
    "数据类型：float64/int64\n",
    "数据类别：数值型\n",
    "单位：平方英尺\n",
    "取值范围：\n",
    "缺失值：\n",
    "异常值："
   ],
   "metadata": {
    "collapsed": false,
    "pycharm": {
     "name": "#%% md\n"
    }
   }
  },
  {
   "cell_type": "markdown",
   "source": [],
   "metadata": {
    "collapsed": false,
    "pycharm": {
     "name": "#%% md\n"
    }
   }
  },
  {
   "cell_type": "markdown",
   "source": [
    "## 2.37 BsmtFinType2 地下室第二块竣工区质量 Quality of second finished area (if present)\n",
    "数据类型：object\n",
    "数据类别：有序类别型\n",
    "取值范围：\n",
    "+ GLQ\tGood Living Quarters\n",
    "+ ALQ\tAverage Living Quarters\n",
    "+ BLQ\tBelow Average Living Quarters\n",
    "+ Rec\tAverage Rec Room\n",
    "+ LwQ\tLow Quality\n",
    "+ Unf\tUnfinshed\n",
    "+ NA\tNo Basement\n",
    "\n",
    "缺失值：\n",
    "异常值："
   ],
   "metadata": {
    "collapsed": false,
    "pycharm": {
     "name": "#%% md\n"
    }
   }
  },
  {
   "cell_type": "markdown",
   "source": [],
   "metadata": {
    "collapsed": false,
    "pycharm": {
     "name": "#%% md\n"
    }
   }
  },
  {
   "cell_type": "markdown",
   "source": [
    "## 2.38 BsmtFinSF2 第二块地下室竣工区面积 Type 2 finished square feet\n",
    "数据类型：float64/int64\n",
    "数据类别：数值型\n",
    "单位：平方英尺\n",
    "取值范围：\n",
    "缺失值：\n",
    "异常值："
   ],
   "metadata": {
    "collapsed": false,
    "pycharm": {
     "name": "#%% md\n"
    }
   }
  },
  {
   "cell_type": "markdown",
   "source": [],
   "metadata": {
    "collapsed": false,
    "pycharm": {
     "name": "#%% md\n"
    }
   }
  },
  {
   "cell_type": "markdown",
   "source": [
    "## 2.39 BsmtUnfSF 地下室未竣工区面积 Unfinished square feet of basement area\n",
    "数据类型：float64/int64\n",
    "数据类别：数值型\n",
    "单位：平方英尺\n",
    "取值范围：\n",
    "缺失值：\n",
    "异常值："
   ],
   "metadata": {
    "collapsed": false,
    "pycharm": {
     "name": "#%% md\n"
    }
   }
  },
  {
   "cell_type": "markdown",
   "source": [],
   "metadata": {
    "collapsed": false,
    "pycharm": {
     "name": "#%% md\n"
    }
   }
  },
  {
   "cell_type": "markdown",
   "source": [
    "## 2.40 TotalBsmtSF 地下室总面积 Total square feet of basement area\n",
    "数据类型：float64/int64\n",
    "数据类别：数值型\n",
    "单位：平方英尺\n",
    "取值范围：\n",
    "缺失值：\n",
    "异常值："
   ],
   "metadata": {
    "collapsed": false,
    "pycharm": {
     "name": "#%% md\n"
    }
   }
  },
  {
   "cell_type": "markdown",
   "source": [],
   "metadata": {
    "collapsed": false,
    "pycharm": {
     "name": "#%% md\n"
    }
   }
  },
  {
   "cell_type": "markdown",
   "source": [
    "## 2.41 Heating 加热类型 Type of heating\n",
    "数据类型：object\n",
    "数据类别：无序类别型\n",
    "取值范围：\n",
    "+ Floor\tFloor Furnace\n",
    "+ GasA\tGas forced warm air furnace\n",
    "+ GasW\tGas hot water or steam heat\n",
    "+ Grav\tGravity furnace\n",
    "+ OthW\tHot water or steam heat other than gas\n",
    "+ Wall\tWall furnace\n",
    "缺失值：\n",
    "异常值："
   ],
   "metadata": {
    "collapsed": false,
    "pycharm": {
     "name": "#%% md\n"
    }
   }
  },
  {
   "cell_type": "markdown",
   "source": [],
   "metadata": {
    "collapsed": false,
    "pycharm": {
     "name": "#%% md\n"
    }
   }
  },
  {
   "cell_type": "markdown",
   "source": [
    "## 2.42 HeatingQC 家人质量和状况 Heating quality and condition\n",
    "数据类型：object\n",
    "数据类别：有序类别型\n",
    "取值范围：\n",
    "+ Ex\tExcellent\n",
    "+ Gd\tGood\n",
    "+ TA\tAverage/Typical\n",
    "+ Fa\tFair\n",
    "+ Po\tPoor\n",
    "\n",
    "缺失值：\n",
    "异常值："
   ],
   "metadata": {
    "collapsed": false,
    "pycharm": {
     "name": "#%% md\n"
    }
   }
  },
  {
   "cell_type": "markdown",
   "source": [],
   "metadata": {
    "collapsed": false,
    "pycharm": {
     "name": "#%% md\n"
    }
   }
  },
  {
   "cell_type": "markdown",
   "source": [
    "## 2.43 CentralAir 是否有中央空调 Central air conditioning\n",
    "数据类型：object\n",
    "数据类别：布尔型\n",
    "取值范围：\n",
    "+ N\tNo\n",
    "+ Y\tYes\n",
    "缺失值：\n",
    "异常值："
   ],
   "metadata": {
    "collapsed": false,
    "pycharm": {
     "name": "#%% md\n"
    }
   }
  },
  {
   "cell_type": "markdown",
   "source": [],
   "metadata": {
    "collapsed": false,
    "pycharm": {
     "name": "#%% md\n"
    }
   }
  },
  {
   "cell_type": "markdown",
   "source": [
    "## 2.44 Electrical 电力系统 Electrical system\n",
    "数据类型：object\n",
    "数据类别：有序类别型\n",
    "取值范围：\n",
    "+ SBrkr\tStandard Circuit Breakers & Romex\n",
    "+ FuseA\tFuse Box over 60 AMP and all Romex wiring (Average)\n",
    "+ FuseF\t60 AMP Fuse Box and mostly Romex wiring (Fair)\n",
    "+ FuseP\t60 AMP Fuse Box and mostly knob & tube wiring (poor)\n",
    "+ Mix\tMixed\n",
    "\n",
    "缺失值：\n",
    "异常值："
   ],
   "metadata": {
    "collapsed": false,
    "pycharm": {
     "name": "#%% md\n"
    }
   }
  },
  {
   "cell_type": "markdown",
   "source": [],
   "metadata": {
    "collapsed": false,
    "pycharm": {
     "name": "#%% md\n"
    }
   }
  },
  {
   "cell_type": "markdown",
   "source": [
    "## 2.45 1stFlrSF 一楼面积 First Floor square feet\n",
    "数据类型：int64\n",
    "数据类别：数值型\n",
    "单位：平方英尺\n",
    "取值范围：\n",
    "缺失值：\n",
    "异常值："
   ],
   "metadata": {
    "collapsed": false,
    "pycharm": {
     "name": "#%% md\n"
    }
   }
  },
  {
   "cell_type": "markdown",
   "source": [],
   "metadata": {
    "collapsed": false,
    "pycharm": {
     "name": "#%% md\n"
    }
   }
  },
  {
   "cell_type": "markdown",
   "source": [
    "## 2.46 2ndFlrSF 二楼面积 Second floor square feet\n",
    "数据类型：int64\n",
    "数据类别：数值型\n",
    "单位：平方英尺\n",
    "取值范围：\n",
    "缺失值：\n",
    "异常值："
   ],
   "metadata": {
    "collapsed": false,
    "pycharm": {
     "name": "#%% md\n"
    }
   }
  },
  {
   "cell_type": "markdown",
   "source": [],
   "metadata": {
    "collapsed": false,
    "pycharm": {
     "name": "#%% md\n"
    }
   }
  },
  {
   "cell_type": "markdown",
   "source": [
    "## 2.47 LowQualFinSF 低质量竣工面积 Low quality finished square feet (all floors)\n",
    "数据类型：int64\n",
    "数据类别：数值型\n",
    "单位：平方英尺\n",
    "取值范围：\n",
    "缺失值：\n",
    "异常值："
   ],
   "metadata": {
    "collapsed": false,
    "pycharm": {
     "name": "#%% md\n"
    }
   }
  },
  {
   "cell_type": "markdown",
   "source": [],
   "metadata": {
    "collapsed": false,
    "pycharm": {
     "name": "#%% md\n"
    }
   }
  },
  {
   "cell_type": "markdown",
   "source": [
    "## 2.48 GrLivArea 地上生活区面积 Above grade (ground) living area square feet\n",
    "数据类型：int64\n",
    "数据类别：数值型\n",
    "单位：平方英尺\n",
    "取值范围：\n",
    "缺失值：\n",
    "异常值："
   ],
   "metadata": {
    "collapsed": false,
    "pycharm": {
     "name": "#%% md\n"
    }
   }
  },
  {
   "cell_type": "markdown",
   "source": [],
   "metadata": {
    "collapsed": false,
    "pycharm": {
     "name": "#%% md\n"
    }
   }
  },
  {
   "cell_type": "markdown",
   "source": [
    "## 2.49 BsmtFullBath 地下整间浴室数量 Basement full bathrooms\n",
    "数据类型：float64/int64\n",
    "数据类别：数值型\n",
    "单位：间\n",
    "取值范围：\n",
    "缺失值：\n",
    "异常值："
   ],
   "metadata": {
    "collapsed": false,
    "pycharm": {
     "name": "#%% md\n"
    }
   }
  },
  {
   "cell_type": "markdown",
   "source": [],
   "metadata": {
    "collapsed": false,
    "pycharm": {
     "name": "#%% md\n"
    }
   }
  },
  {
   "cell_type": "markdown",
   "source": [
    "## 2.50 BsmtHalfBath 地下半间浴室数量 Basement half bathrooms\n",
    "数据类型：float64/int64\n",
    "数据类别：数值型\n",
    "单位：间\n",
    "取值范围：\n",
    "缺失值：\n",
    "异常值："
   ],
   "metadata": {
    "collapsed": false,
    "pycharm": {
     "name": "#%% md\n"
    }
   }
  },
  {
   "cell_type": "markdown",
   "source": [],
   "metadata": {
    "collapsed": false,
    "pycharm": {
     "name": "#%% md\n"
    }
   }
  },
  {
   "cell_type": "markdown",
   "source": [
    "## 2.51 FullBath 地上整间浴室数量 Full bathrooms above grade\n",
    "数据类型：int64\n",
    "数据类别：数值型\n",
    "单位：间\n",
    "取值范围：\n",
    "缺失值：\n",
    "异常值："
   ],
   "metadata": {
    "collapsed": false,
    "pycharm": {
     "name": "#%% md\n"
    }
   }
  },
  {
   "cell_type": "markdown",
   "source": [],
   "metadata": {
    "collapsed": false,
    "pycharm": {
     "name": "#%% md\n"
    }
   }
  },
  {
   "cell_type": "markdown",
   "source": [
    "## 2.52 HalfBath 地上半间浴室数量 Half baths above grade\n",
    "数据类型：int64\n",
    "数据类别：数值型\n",
    "单位：间\n",
    "取值范围：\n",
    "缺失值：\n",
    "异常值："
   ],
   "metadata": {
    "collapsed": false,
    "pycharm": {
     "name": "#%% md\n"
    }
   }
  },
  {
   "cell_type": "markdown",
   "source": [],
   "metadata": {
    "collapsed": false,
    "pycharm": {
     "name": "#%% md\n"
    }
   }
  },
  {
   "cell_type": "markdown",
   "source": [
    "## 2.53 BedroomAbvGr 地上卧室数量 Number of bedrooms above basement level\n",
    "数据类型：int64\n",
    "数据类别：数值型\n",
    "单位：间\n",
    "取值范围：\n",
    "缺失值：\n",
    "异常值："
   ],
   "metadata": {
    "collapsed": false,
    "pycharm": {
     "name": "#%% md\n"
    }
   }
  },
  {
   "cell_type": "markdown",
   "source": [],
   "metadata": {
    "collapsed": false,
    "pycharm": {
     "name": "#%% md\n"
    }
   }
  },
  {
   "cell_type": "markdown",
   "source": [
    "## 2.54 KitchenAbvGr 地上厨房数量 Number of kitchens\n",
    "数据类型：int64\n",
    "数据类别：数值型\n",
    "单位：间\n",
    "取值范围：\n",
    "缺失值：\n",
    "异常值："
   ],
   "metadata": {
    "collapsed": false,
    "pycharm": {
     "name": "#%% md\n"
    }
   }
  },
  {
   "cell_type": "markdown",
   "source": [],
   "metadata": {
    "collapsed": false,
    "pycharm": {
     "name": "#%% md\n"
    }
   }
  },
  {
   "cell_type": "markdown",
   "source": [
    "## 2.55 KitchenQual 厨房质量 Kitchen quality\n",
    "数据类型：object\n",
    "数据类别：有序类别型\n",
    "取值范围：\n",
    "+ Ex\tExcellent\n",
    "+ Gd\tGood\n",
    "+ TA\tTypical/Average\n",
    "+ Fa\tFair\n",
    "+ Po\tPoor\n",
    "\n",
    "缺失值：\n",
    "异常值："
   ],
   "metadata": {
    "collapsed": false,
    "pycharm": {
     "name": "#%% md\n"
    }
   }
  },
  {
   "cell_type": "markdown",
   "source": [],
   "metadata": {
    "collapsed": false,
    "pycharm": {
     "name": "#%% md\n"
    }
   }
  },
  {
   "cell_type": "markdown",
   "source": [
    "## 2.56 TotRmsAbvGrd 地上非浴室房价数 Total rooms above grade (does not include bathrooms)\n",
    "数据类型：int64\n",
    "数据类别：数值型\n",
    "单位：间\n",
    "取值范围：\n",
    "缺失值：\n",
    "异常值："
   ],
   "metadata": {
    "collapsed": false,
    "pycharm": {
     "name": "#%% md\n"
    }
   }
  },
  {
   "cell_type": "markdown",
   "source": [],
   "metadata": {
    "collapsed": false,
    "pycharm": {
     "name": "#%% md\n"
    }
   }
  },
  {
   "cell_type": "markdown",
   "source": [
    "## 2.57 Functional 家庭功能 Home functionality rating\n",
    "属性释义：家庭功能除非有扣除项，一般假定为典型功能\n",
    ">Home functionality (Assume typical unless deductions are warranted)\n",
    "\n",
    "数据类型：object\n",
    "数据类别：有序类别\n",
    "取值范围：\n",
    "+ Typ\tTypical Functionality\n",
    "+ Min1\tMinor Deductions 1\n",
    "+ Min2\tMinor Deductions 2\n",
    "+ Mod\tModerate Deductions\n",
    "+ Maj1\tMajor Deductions 1\n",
    "+ Maj2\tMajor Deductions 2\n",
    "+ Sev\tSeverely Damaged\n",
    "+ Sal\tSalvage only\n",
    "\n",
    "缺失值：\n",
    "异常值："
   ],
   "metadata": {
    "collapsed": false,
    "pycharm": {
     "name": "#%% md\n"
    }
   }
  },
  {
   "cell_type": "markdown",
   "source": [],
   "metadata": {
    "collapsed": false,
    "pycharm": {
     "name": "#%% md\n"
    }
   }
  },
  {
   "cell_type": "markdown",
   "source": [
    "## 2.58 Fireplaces 壁炉数量 Number of fireplaces\n",
    "数据类型：int64\n",
    "数据类别：数值型\n",
    "单位：个\n",
    "取值范围：\n",
    "缺失值：\n",
    "异常值："
   ],
   "metadata": {
    "collapsed": false,
    "pycharm": {
     "name": "#%% md\n"
    }
   }
  },
  {
   "cell_type": "markdown",
   "source": [],
   "metadata": {
    "collapsed": false,
    "pycharm": {
     "name": "#%% md\n"
    }
   }
  },
  {
   "cell_type": "markdown",
   "source": [
    "## 2.59 FireplaceQu Fireplace quality\n",
    "数据类型：object\n",
    "数据类别：有序类别型\n",
    "取值范围：\n",
    "+ Ex\tExcellent - Exceptional Masonry Fireplace\n",
    "+ Gd\tGood - Masonry Fireplace in main level\n",
    "+ TA\tAverage - Prefabricated Fireplace in main living area or Masonry Fireplace in basement\n",
    "+ Fa\tFair - Prefabricated Fireplace in basement\n",
    "+ Po\tPoor - Ben Franklin Stove\n",
    "+ NA\tNo Fireplace\n",
    "\n",
    "缺失值：\n",
    "异常值："
   ],
   "metadata": {
    "collapsed": false,
    "pycharm": {
     "name": "#%% md\n"
    }
   }
  },
  {
   "cell_type": "markdown",
   "source": [],
   "metadata": {
    "collapsed": false,
    "pycharm": {
     "name": "#%% md\n"
    }
   }
  },
  {
   "cell_type": "markdown",
   "source": [
    "## 2.60 GarageType 车库位置 Garage location\n",
    "数据类型：object\n",
    "数据类别：无序类别型\n",
    "取值范围：\n",
    "+ 2Types\tMore than one type of garage\n",
    "+ Attchd\tAttached to home\n",
    "+ Basment\tBasement Garage\n",
    "+ BuiltIn\tBuilt-In (Garage part of house - typically has room above garage)\n",
    "+ CarPort\tCar Port\n",
    "+ Detchd\tDetached from home\n",
    "+ NA\tNo Garage\n",
    "\n",
    "缺失值：\n",
    "异常值："
   ],
   "metadata": {
    "collapsed": false,
    "pycharm": {
     "name": "#%% md\n"
    }
   }
  },
  {
   "cell_type": "markdown",
   "source": [],
   "metadata": {
    "collapsed": false,
    "pycharm": {
     "name": "#%% md\n"
    }
   }
  },
  {
   "cell_type": "markdown",
   "source": [
    "## 2.61 GarageYrBlt 车库建成年份 Year garage was built\n",
    "数据类型：float64\n",
    "数据类别：日期型\n",
    "单位：年\n",
    "取值范围：\n",
    "缺失值：\n",
    "异常值："
   ],
   "metadata": {
    "collapsed": false,
    "pycharm": {
     "name": "#%% md\n"
    }
   }
  },
  {
   "cell_type": "markdown",
   "source": [],
   "metadata": {
    "collapsed": false,
    "pycharm": {
     "name": "#%% md\n"
    }
   }
  },
  {
   "cell_type": "markdown",
   "source": [
    "## 2.62 GarageFinish 车库内饰面完成度 Interior finish of the garage\n",
    "数据类型：object\n",
    "数据类别：有序类别型\n",
    "取值范围：\n",
    "+ Fin\tFinished\n",
    "+ RFn\tRough Finished\n",
    "+ Unf\tUnfinished\n",
    "+ NA\tNo Garage\n",
    "\n",
    "缺失值：\n",
    "异常值："
   ],
   "metadata": {
    "collapsed": false,
    "pycharm": {
     "name": "#%% md\n"
    }
   }
  },
  {
   "cell_type": "markdown",
   "source": [],
   "metadata": {
    "collapsed": false,
    "pycharm": {
     "name": "#%% md\n"
    }
   }
  },
  {
   "cell_type": "markdown",
   "source": [
    "## 2.63 GarageCars 车库车容量 Size of garage in car capacity\n",
    "数据类型：float64/int64\n",
    "数据类别：数值型\n",
    "单位：辆\n",
    "取值范围：\n",
    "缺失值：\n",
    "异常值："
   ],
   "metadata": {
    "collapsed": false,
    "pycharm": {
     "name": "#%% md\n"
    }
   }
  },
  {
   "cell_type": "markdown",
   "source": [],
   "metadata": {
    "collapsed": false,
    "pycharm": {
     "name": "#%% md\n"
    }
   }
  },
  {
   "cell_type": "markdown",
   "source": [
    "## 2.64 GarageArea 车库面积 Size of garage in square feet\n",
    "数据类型：float64/int64\n",
    "数据类别：数值型\n",
    "单位：平方英尺\n",
    "取值范围：\n",
    "缺失值：\n",
    "异常值："
   ],
   "metadata": {
    "collapsed": false,
    "pycharm": {
     "name": "#%% md\n"
    }
   }
  },
  {
   "cell_type": "markdown",
   "source": [],
   "metadata": {
    "collapsed": false,
    "pycharm": {
     "name": "#%% md\n"
    }
   }
  },
  {
   "cell_type": "markdown",
   "source": [
    "## 2.65 GarageQual 车库质量 Garage quality\n",
    "数据类型：object\n",
    "数据类别：有序类别型\n",
    "取值范围：\n",
    "+ Ex\tExcellent\n",
    "+ Gd\tGood\n",
    "+ TA\tTypical/Average\n",
    "+ Fa\tFair\n",
    "+ Po\tPoor\n",
    "+ NA\tNo Garage\n",
    "\n",
    "缺失值：\n",
    "异常值："
   ],
   "metadata": {
    "collapsed": false,
    "pycharm": {
     "name": "#%% md\n"
    }
   }
  },
  {
   "cell_type": "markdown",
   "source": [],
   "metadata": {
    "collapsed": false,
    "pycharm": {
     "name": "#%% md\n"
    }
   }
  },
  {
   "cell_type": "markdown",
   "source": [
    "## 2.66 GarageCond 车库状况 Garage condition\n",
    "数据类型：object\n",
    "数据类别：有序类别型\n",
    "取值范围：\n",
    "+ Ex\tExcellent\n",
    "+ Gd\tGood\n",
    "+ TA\tTypical/Average\n",
    "+ Fa\tFair\n",
    "+ Po\tPoor\n",
    "+ NA\tNo Garage\n",
    "\n",
    "缺失值：\n",
    "异常值："
   ],
   "metadata": {
    "collapsed": false,
    "pycharm": {
     "name": "#%% md\n"
    }
   }
  },
  {
   "cell_type": "markdown",
   "source": [],
   "metadata": {
    "collapsed": false,
    "pycharm": {
     "name": "#%% md\n"
    }
   }
  },
  {
   "cell_type": "markdown",
   "source": [
    "## 2.67 PavedDrive 车道路面 Paved driveway\n",
    "数据类型：object\n",
    "数据类别：有序类别型\n",
    "取值范围：\n",
    "+ Y\tPaved\n",
    "+ P\tPartial Pavement\n",
    "+ N\tDirt/Gravel\n",
    "\n",
    "缺失值：\n",
    "异常值："
   ],
   "metadata": {
    "collapsed": false,
    "pycharm": {
     "name": "#%% md\n"
    }
   }
  },
  {
   "cell_type": "markdown",
   "source": [],
   "metadata": {
    "collapsed": false,
    "pycharm": {
     "name": "#%% md\n"
    }
   }
  },
  {
   "cell_type": "markdown",
   "source": [
    "## 2.68 WoodDeckSF 木地板面积 Wood deck area in square feet\n",
    "数据类型：int64\n",
    "数据类别：数值型\n",
    "单位：平方英尺\n",
    "取值范围：\n",
    "缺失值：\n",
    "异常值："
   ],
   "metadata": {
    "collapsed": false,
    "pycharm": {
     "name": "#%% md\n"
    }
   }
  },
  {
   "cell_type": "markdown",
   "source": [],
   "metadata": {
    "collapsed": false,
    "pycharm": {
     "name": "#%% md\n"
    }
   }
  },
  {
   "cell_type": "markdown",
   "source": [
    "## 2.69 OpenPorchSF 开放式门廊面积 Open porch area in square feet\n",
    "数据类型：int64\n",
    "数据类别：数值型\n",
    "单位：平方英尺\n",
    "取值范围：\n",
    "缺失值：\n",
    "异常值："
   ],
   "metadata": {
    "collapsed": false,
    "pycharm": {
     "name": "#%% md\n"
    }
   }
  },
  {
   "cell_type": "markdown",
   "source": [],
   "metadata": {
    "collapsed": false,
    "pycharm": {
     "name": "#%% md\n"
    }
   }
  },
  {
   "cell_type": "markdown",
   "source": [
    "## 2.70 EnclosedPorch 封闭式门廊面积 Enclosed porch area in square feet\n",
    "数据类型：int64\n",
    "数据类别：数值型\n",
    "单位：平方英尺\n",
    "取值范围：\n",
    "缺失值：\n",
    "异常值："
   ],
   "metadata": {
    "collapsed": false,
    "pycharm": {
     "name": "#%% md\n"
    }
   }
  },
  {
   "cell_type": "markdown",
   "source": [],
   "metadata": {
    "collapsed": false,
    "pycharm": {
     "name": "#%% md\n"
    }
   }
  },
  {
   "cell_type": "markdown",
   "source": [
    "## 2.71 3SsnPorch 三季门廊面积 Three season porch area in square feet\n",
    "数据类型：int64\n",
    "数据类别：数值型\n",
    "单位：平方英尺\n",
    "取值范围：\n",
    "缺失值：\n",
    "异常值："
   ],
   "metadata": {
    "collapsed": false,
    "pycharm": {
     "name": "#%% md\n"
    }
   }
  },
  {
   "cell_type": "markdown",
   "source": [],
   "metadata": {
    "collapsed": false,
    "pycharm": {
     "name": "#%% md\n"
    }
   }
  },
  {
   "cell_type": "markdown",
   "source": [
    "## 2.72 ScreenPorch 屏风门廊面积 Screen porch area in square feet\n",
    "数据类型：int64\n",
    "数据类别：数值型\n",
    "单位：平方英尺\n",
    "取值范围：\n",
    "缺失值：\n",
    "异常值："
   ],
   "metadata": {
    "collapsed": false,
    "pycharm": {
     "name": "#%% md\n"
    }
   }
  },
  {
   "cell_type": "markdown",
   "source": [],
   "metadata": {
    "collapsed": false,
    "pycharm": {
     "name": "#%% md\n"
    }
   }
  },
  {
   "cell_type": "markdown",
   "source": [
    "## 2.73 PoolArea 泳池面积 Pool area in square feet\n",
    "数据类型：int64\n",
    "数据类别：数值型\n",
    "单位：平方英尺\n",
    "取值范围：\n",
    "缺失值：\n",
    "异常值："
   ],
   "metadata": {
    "collapsed": false,
    "pycharm": {
     "name": "#%% md\n"
    }
   }
  },
  {
   "cell_type": "markdown",
   "source": [],
   "metadata": {
    "collapsed": false,
    "pycharm": {
     "name": "#%% md\n"
    }
   }
  },
  {
   "cell_type": "markdown",
   "source": [
    "## 2.74 PoolQC 泳池质量 Pool quality\n",
    "数据类型：object\n",
    "数据类别：有序类别型\n",
    "取值范围：\n",
    "+ Ex\tExcellent\n",
    "+ Gd\tGood\n",
    "+ TA\tAverage/Typical\n",
    "+ Fa\tFair\n",
    "+ NA\tNo Pool\n",
    "\n",
    "缺失值：\n",
    "异常值："
   ],
   "metadata": {
    "collapsed": false,
    "pycharm": {
     "name": "#%% md\n"
    }
   }
  },
  {
   "cell_type": "markdown",
   "source": [],
   "metadata": {
    "collapsed": false,
    "pycharm": {
     "name": "#%% md\n"
    }
   }
  },
  {
   "cell_type": "markdown",
   "source": [
    "## 2.75 Fence 栅栏质量 Fence quality\n",
    "数据类型：object\n",
    "数据类别：有序类别型\n",
    "取值范围：\n",
    "+ GdPrv\tGood Privacy\n",
    "+ MnPrv\tMinimum Privacy\n",
    "+ GdWo\tGood Wood\n",
    "+ MnWw\tMinimum Wood/Wire\n",
    "+ NA\tNo Fence\n",
    "\n",
    "缺失值：\n",
    "异常值："
   ],
   "metadata": {
    "collapsed": false,
    "pycharm": {
     "name": "#%% md\n"
    }
   }
  },
  {
   "cell_type": "markdown",
   "source": [],
   "metadata": {
    "collapsed": false
   }
  },
  {
   "cell_type": "markdown",
   "source": [
    "## 2.76 MiscFeature 其他类目中未涵盖的特点 Miscellaneous feature not covered in other categories\n",
    "数据类型：object\n",
    "数据类别：无序类别型\n",
    "取值范围：\n",
    "+ Elev\tElevator\n",
    "+ Gar2\t2nd Garage (if not described in garage section)\n",
    "+ Othr\tOther\n",
    "+ Shed\tShed (over 100 SF)\n",
    "+ TenC\tTennis Court\n",
    "+ NA\tNone\n",
    "\n",
    "缺失值：\n",
    "异常值："
   ],
   "metadata": {
    "collapsed": false,
    "pycharm": {
     "name": "#%% md\n"
    }
   }
  },
  {
   "cell_type": "markdown",
   "source": [],
   "metadata": {
    "collapsed": false,
    "pycharm": {
     "name": "#%% md\n"
    }
   }
  },
  {
   "cell_type": "markdown",
   "source": [
    "## 2.77 MiscVal 其他类目的价值 $Value of miscellaneous feature\n",
    "数据类型：int64\n",
    "数据类别：数值型\n",
    "单位：美元\n",
    "取值范围：\n",
    "缺失值：\n",
    "异常值："
   ],
   "metadata": {
    "collapsed": false,
    "pycharm": {
     "name": "#%% md\n"
    }
   }
  },
  {
   "cell_type": "markdown",
   "source": [],
   "metadata": {
    "collapsed": false,
    "pycharm": {
     "name": "#%% md\n"
    }
   }
  },
  {
   "cell_type": "markdown",
   "source": [
    "## 2.78 MoSold 出售月份 Month Sold (MM)\n",
    "数据类型：int64\n",
    "数据类别：日期型\n",
    "单位：月\n",
    "取值范围：1~12\n",
    "缺失值：\n",
    "异常值："
   ],
   "metadata": {
    "collapsed": false,
    "pycharm": {
     "name": "#%% md\n"
    }
   }
  },
  {
   "cell_type": "markdown",
   "source": [],
   "metadata": {
    "collapsed": false,
    "pycharm": {
     "name": "#%% md\n"
    }
   }
  },
  {
   "cell_type": "markdown",
   "source": [
    "## 2.79 YrSold 出售年份 Year Sold (YYYY)\n",
    "数据类型：int64\n",
    "数据类别：日期型\n",
    "单位：年\n",
    "取值范围：\n",
    "缺失值：\n",
    "异常值："
   ],
   "metadata": {
    "collapsed": false,
    "pycharm": {
     "name": "#%% md\n"
    }
   }
  },
  {
   "cell_type": "markdown",
   "source": [],
   "metadata": {
    "collapsed": false,
    "pycharm": {
     "name": "#%% md\n"
    }
   }
  },
  {
   "cell_type": "markdown",
   "source": [
    "## 2.80 SaleType 销售方式 Type of sale\n",
    "数据类型：object\n",
    "数据类别：无序类别型\n",
    "取值范围：\n",
    "+ WD \tWarranty Deed - Conventional\n",
    "+ CWD\tWarranty Deed - Cash\n",
    "+ VWD\tWarranty Deed - VA Loan\n",
    "+ New\tHome just constructed and sold\n",
    "+ COD\tCourt Officer Deed/Estate\n",
    "+ Con\tContract 15% Down payment regular terms\n",
    "+ ConLw\tContract Low Down payment and low interest\n",
    "+ ConLI\tContract Low Interest\n",
    "+ ConLD\tContract Low Down\n",
    "+ Oth\tOther\n",
    "\n",
    "缺失值：\n",
    "异常值："
   ],
   "metadata": {
    "collapsed": false,
    "pycharm": {
     "name": "#%% md\n"
    }
   }
  },
  {
   "cell_type": "markdown",
   "source": [],
   "metadata": {
    "collapsed": false,
    "pycharm": {
     "name": "#%% md\n"
    }
   }
  },
  {
   "cell_type": "markdown",
   "source": [
    "## 2.81 SaleCondition 销售条件 Condition of sale\n",
    "数据类型：object\n",
    "数据类别：无序类别型\n",
    "取值范围：\n",
    "+ Normal\tNormal Sale\n",
    "+ Abnorml\tAbnormal Sale -  trade, foreclosure, short sale\n",
    "+ AdjLand\tAdjoining Land Purchase\n",
    "+ Alloca\tAllocation - two linked properties with separate deeds, typically condo with a garage unit\n",
    "+ Family\tSale between family members\n",
    "+ Partial\tHome was not completed when last assessed (associated with New Homes)\n",
    "\n",
    "缺失值：\n",
    "异常值："
   ],
   "metadata": {
    "collapsed": false,
    "pycharm": {
     "name": "#%% md\n"
    }
   }
  },
  {
   "cell_type": "markdown",
   "source": [],
   "metadata": {
    "collapsed": false,
    "pycharm": {
     "name": "#%% md\n"
    }
   }
  },
  {
   "cell_type": "code",
   "execution_count": 157,
   "outputs": [],
   "source": [],
   "metadata": {
    "collapsed": false,
    "pycharm": {
     "name": "#%%\n"
    }
   }
  }
 ],
 "metadata": {
  "kernelspec": {
   "display_name": "Python 3",
   "language": "python",
   "name": "python3"
  },
  "language_info": {
   "codemirror_mode": {
    "name": "ipython",
    "version": 2
   },
   "file_extension": ".py",
   "mimetype": "text/x-python",
   "name": "python",
   "nbconvert_exporter": "python",
   "pygments_lexer": "ipython2",
   "version": "2.7.6"
  }
 },
 "nbformat": 4,
 "nbformat_minor": 0
}